{
 "cells": [
  {
   "cell_type": "code",
   "execution_count": 1,
   "id": "4c844294",
   "metadata": {},
   "outputs": [],
   "source": [
    "#1. Import the NUMPY package under the name np.\n",
    "\n",
    "import numpy as np"
   ]
  },
  {
   "cell_type": "code",
   "execution_count": 6,
   "id": "9785fa1e",
   "metadata": {},
   "outputs": [
    {
     "name": "stdout",
     "output_type": "stream",
     "text": [
      "blas_armpl_info:\n",
      "  NOT AVAILABLE\n",
      "blas_mkl_info:\n",
      "  NOT AVAILABLE\n",
      "blis_info:\n",
      "  NOT AVAILABLE\n",
      "openblas_info:\n",
      "    libraries = ['openblas', 'openblas']\n",
      "    library_dirs = ['/Users/nico/anaconda3/lib']\n",
      "    language = c\n",
      "    define_macros = [('HAVE_CBLAS', None)]\n",
      "blas_opt_info:\n",
      "    libraries = ['openblas', 'openblas']\n",
      "    library_dirs = ['/Users/nico/anaconda3/lib']\n",
      "    language = c\n",
      "    define_macros = [('HAVE_CBLAS', None)]\n",
      "lapack_armpl_info:\n",
      "  NOT AVAILABLE\n",
      "lapack_mkl_info:\n",
      "  NOT AVAILABLE\n",
      "openblas_lapack_info:\n",
      "    libraries = ['openblas', 'openblas']\n",
      "    library_dirs = ['/Users/nico/anaconda3/lib']\n",
      "    language = c\n",
      "    define_macros = [('HAVE_CBLAS', None)]\n",
      "lapack_opt_info:\n",
      "    libraries = ['openblas', 'openblas']\n",
      "    library_dirs = ['/Users/nico/anaconda3/lib']\n",
      "    language = c\n",
      "    define_macros = [('HAVE_CBLAS', None)]\n",
      "Supported SIMD extensions in this NumPy install:\n",
      "    baseline = SSE,SSE2,SSE3\n",
      "    found = SSSE3,SSE41,POPCNT,SSE42,AVX,F16C,FMA3,AVX2\n",
      "    not found = AVX512F,AVX512CD,AVX512_KNL,AVX512_SKX,AVX512_CLX,AVX512_CNL,AVX512_ICL\n",
      "None\n"
     ]
    }
   ],
   "source": [
    "#2. Print the NUMPY version and the configuration.\n",
    "np.__version__\n",
    "print(np.show_config())"
   ]
  },
  {
   "cell_type": "code",
   "execution_count": 14,
   "id": "8227b52d",
   "metadata": {},
   "outputs": [],
   "source": [
    "#3. Generate a 2x3x5 3-dimensional array with random values. Assign the array to variable \"a\"\n",
    "# Challenge: there are at least three easy ways that use numpy to generate random arrays. How many ways can you find?\n",
    "\n",
    "\n",
    "a = np.random.random((2,3,5))\n",
    "\n",
    "\n"
   ]
  },
  {
   "cell_type": "code",
   "execution_count": 15,
   "id": "e9416169",
   "metadata": {},
   "outputs": [
    {
     "name": "stdout",
     "output_type": "stream",
     "text": [
      "[[[0.86305707 0.60039212 0.10728632 0.21636175 0.29493277]\n",
      "  [0.21421307 0.45641288 0.4463366  0.80879057 0.59301495]\n",
      "  [0.08017096 0.06543144 0.59689178 0.86836545 0.15359413]]\n",
      "\n",
      " [[0.55537873 0.93662025 0.41031871 0.99055263 0.49174226]\n",
      "  [0.14169151 0.65228476 0.48092928 0.13111728 0.98691454]\n",
      "  [0.49934946 0.259726   0.65832005 0.64323228 0.28420753]]]\n"
     ]
    }
   ],
   "source": [
    "#4. Print a.\n",
    "print(a)"
   ]
  },
  {
   "cell_type": "code",
   "execution_count": 27,
   "id": "bf7e157b",
   "metadata": {},
   "outputs": [],
   "source": [
    "#5. Create a 5x2x3 3-dimensional array with all values equaling 1.\n",
    "#Assign the array to variable \"b\"\n",
    "b = np.ones((5,3,2))"
   ]
  },
  {
   "cell_type": "code",
   "execution_count": 28,
   "id": "513ceec7",
   "metadata": {},
   "outputs": [
    {
     "name": "stdout",
     "output_type": "stream",
     "text": [
      "[[[1. 1.]\n",
      "  [1. 1.]\n",
      "  [1. 1.]]\n",
      "\n",
      " [[1. 1.]\n",
      "  [1. 1.]\n",
      "  [1. 1.]]\n",
      "\n",
      " [[1. 1.]\n",
      "  [1. 1.]\n",
      "  [1. 1.]]\n",
      "\n",
      " [[1. 1.]\n",
      "  [1. 1.]\n",
      "  [1. 1.]]\n",
      "\n",
      " [[1. 1.]\n",
      "  [1. 1.]\n",
      "  [1. 1.]]]\n"
     ]
    }
   ],
   "source": [
    "#6. Print b.\n",
    "print(b)"
   ]
  },
  {
   "cell_type": "code",
   "execution_count": 29,
   "id": "47a90b8a",
   "metadata": {},
   "outputs": [
    {
     "name": "stdout",
     "output_type": "stream",
     "text": [
      "30\n",
      "30\n"
     ]
    }
   ],
   "source": [
    "#7. Do a and b have the same size? How do you prove that in Python code?\n",
    "print(b.size)\n",
    "print(a.size)\n",
    "#Yes"
   ]
  },
  {
   "cell_type": "code",
   "execution_count": 30,
   "id": "e64b12f8",
   "metadata": {},
   "outputs": [
    {
     "ename": "ValueError",
     "evalue": "operands could not be broadcast together with shapes (2,3,5) (5,3,2) ",
     "output_type": "error",
     "traceback": [
      "\u001b[0;31m---------------------------------------------------------------------------\u001b[0m",
      "\u001b[0;31mValueError\u001b[0m                                Traceback (most recent call last)",
      "Cell \u001b[0;32mIn[30], line 4\u001b[0m\n\u001b[1;32m      1\u001b[0m \u001b[38;5;66;03m#8. Are you able to add a and b? Why or why not?\u001b[39;00m\n\u001b[1;32m      2\u001b[0m \n\u001b[1;32m      3\u001b[0m \u001b[38;5;66;03m# no, diferent dimensions\u001b[39;00m\n\u001b[0;32m----> 4\u001b[0m \u001b[43ma\u001b[49m\u001b[43m \u001b[49m\u001b[38;5;241;43m+\u001b[39;49m\u001b[43m \u001b[49m\u001b[43mb\u001b[49m\n",
      "\u001b[0;31mValueError\u001b[0m: operands could not be broadcast together with shapes (2,3,5) (5,3,2) "
     ]
    }
   ],
   "source": [
    "#8. Are you able to add a and b? Why or why not?\n",
    "\n",
    "# no, diferent dimensions\n",
    "a + b"
   ]
  },
  {
   "cell_type": "code",
   "execution_count": 31,
   "id": "1c48778a",
   "metadata": {},
   "outputs": [],
   "source": [
    "#9. Transpose b so that it has the same structure of a (i.e. become a 2x3x5 array). Assign the transposed array to varialbe \"c\".\n",
    "c = b.T"
   ]
  },
  {
   "cell_type": "code",
   "execution_count": 45,
   "id": "146d2463",
   "metadata": {},
   "outputs": [],
   "source": [
    "#10. Try to add a and c. Now it should work. Assign the sum to varialbe \"d\". But why does it work now?\n",
    "d = a + c"
   ]
  },
  {
   "cell_type": "code",
   "execution_count": 55,
   "id": "0d5312f5",
   "metadata": {},
   "outputs": [
    {
     "name": "stdout",
     "output_type": "stream",
     "text": [
      "[[[0.86305707 0.60039212 0.10728632 0.21636175 0.29493277]\n",
      "  [0.21421307 0.45641288 0.4463366  0.80879057 0.59301495]\n",
      "  [0.08017096 0.06543144 0.59689178 0.86836545 0.15359413]]\n",
      "\n",
      " [[0.55537873 0.93662025 0.41031871 0.99055263 0.49174226]\n",
      "  [0.14169151 0.65228476 0.48092928 0.13111728 0.98691454]\n",
      "  [0.49934946 0.259726   0.65832005 0.64323228 0.28420753]]]\n",
      "[[[1.86305707 1.60039212 1.10728632 1.21636175 1.29493277]\n",
      "  [1.21421307 1.45641288 1.4463366  1.80879057 1.59301495]\n",
      "  [1.08017096 1.06543144 1.59689178 1.86836545 1.15359413]]\n",
      "\n",
      " [[1.55537873 1.93662025 1.41031871 1.99055263 1.49174226]\n",
      "  [1.14169151 1.65228476 1.48092928 1.13111728 1.98691454]\n",
      "  [1.49934946 1.259726   1.65832005 1.64323228 1.28420753]]]\n"
     ]
    }
   ],
   "source": [
    "#11. Print a and d. Notice the difference and relation of the two array in terms of the values? Explain.\n",
    "print(a)\n",
    "print(d)\n",
    "# they now share dimensions and therefore can be operated with each other"
   ]
  },
  {
   "cell_type": "code",
   "execution_count": 56,
   "id": "b77ed08d",
   "metadata": {},
   "outputs": [],
   "source": [
    "#12. Multiply a and c. Assign the result to e.\n",
    "e = a * c"
   ]
  },
  {
   "cell_type": "code",
   "execution_count": 57,
   "id": "fa69922f",
   "metadata": {},
   "outputs": [
    {
     "data": {
      "text/plain": [
       "array([[[ True,  True,  True,  True,  True],\n",
       "        [ True,  True,  True,  True,  True],\n",
       "        [ True,  True,  True,  True,  True]],\n",
       "\n",
       "       [[ True,  True,  True,  True,  True],\n",
       "        [ True,  True,  True,  True,  True],\n",
       "        [ True,  True,  True,  True,  True]]])"
      ]
     },
     "execution_count": 57,
     "metadata": {},
     "output_type": "execute_result"
    }
   ],
   "source": [
    "#13. Does e equal to a? Why or why not?\n",
    "a == e\n",
    "# yes because c is a mtrix with values of 1"
   ]
  },
  {
   "cell_type": "code",
   "execution_count": 64,
   "id": "0e0f5d87",
   "metadata": {},
   "outputs": [],
   "source": [
    "#14. Identify the max, min, and mean values in d. Assign those values to variables \"d_max\", \"d_min\", and \"d_mean\"\n",
    "d_max = d.max()\n",
    "d_min = d.min()\n",
    "d_mean = d.mean()"
   ]
  },
  {
   "cell_type": "code",
   "execution_count": 65,
   "id": "4566b467",
   "metadata": {},
   "outputs": [],
   "source": [
    "#15. Now we want to label the values in d. First create an empty array \"f\" with the same shape (i.e. 2x3x5) as d using `np.empty`.\n",
    "f = np.empty((2,3,5))\n"
   ]
  },
  {
   "cell_type": "code",
   "execution_count": 70,
   "id": "8582b0b2",
   "metadata": {},
   "outputs": [
    {
     "name": "stdout",
     "output_type": "stream",
     "text": [
      "[[[ 75.  75.  25.  25.  25.]\n",
      "  [ 25.  25.  25.  75.  75.]\n",
      "  [ 25.   0.  75.  75.  25.]]\n",
      "\n",
      " [[ 75.  75.  25. 100.  75.]\n",
      "  [ 25.  75.  25.  25.  75.]\n",
      "  [ 75.  25.  75.  75.  25.]]]\n"
     ]
    }
   ],
   "source": [
    "\"\"\"\n",
    "#16. Populate the values in f. For each value in d, if it's larger than d_min but smaller than d_mean, assign 25 to the corresponding value in f.\n",
    "If a value in d is larger than d_mean but smaller than d_max, assign 75 to the corresponding value in f.\n",
    "If a value equals to d_mean, assign 50 to the corresponding value in f.\n",
    "Assign 0 to the corresponding value(s) in f for d_min in d.\n",
    "Assign 100 to the corresponding value(s) in f for d_max in d.\n",
    "In the end, f should have only the following values: 0, 25, 50, 75, and 100.\n",
    "Note: you don't have to use Numpy in this question.\n",
    "\"\"\"\n",
    "for i in range(d.shape[0]):\n",
    "    for j in range(d.shape[1]):\n",
    "        for k in range(d.shape[2]):\n",
    "            \n",
    "            \n",
    "            if d[i,j,k] > d_min and d[i,j,k] < d_mean:\n",
    "                f[i, j, k] = 25\n",
    "            elif d[i,j,k] > d_mean and d[i,j,k] < d_max:\n",
    "                f[i, j, k] = 75\n",
    "            elif d[i,j,k]== d_mean:\n",
    "                f[i, j, k] = 50\n",
    "            elif d[i,j,k] == d_min:\n",
    "                f[i, j, k] = 0\n",
    "            elif d[i,j,k] == d_max:\n",
    "                f[i, j, k] = 100\n",
    "\n",
    "print(f)    \n",
    "    "
   ]
  },
  {
   "cell_type": "code",
   "execution_count": 71,
   "id": "1edf0b20",
   "metadata": {},
   "outputs": [
    {
     "name": "stdout",
     "output_type": "stream",
     "text": [
      "[[[1.86305707 1.60039212 1.10728632 1.21636175 1.29493277]\n",
      "  [1.21421307 1.45641288 1.4463366  1.80879057 1.59301495]\n",
      "  [1.08017096 1.06543144 1.59689178 1.86836545 1.15359413]]\n",
      "\n",
      " [[1.55537873 1.93662025 1.41031871 1.99055263 1.49174226]\n",
      "  [1.14169151 1.65228476 1.48092928 1.13111728 1.98691454]\n",
      "  [1.49934946 1.259726   1.65832005 1.64323228 1.28420753]]]\n",
      "[[[ 75.  75.  25.  25.  25.]\n",
      "  [ 25.  25.  25.  75.  75.]\n",
      "  [ 25.   0.  75.  75.  25.]]\n",
      "\n",
      " [[ 75.  75.  25. 100.  75.]\n",
      "  [ 25.  75.  25.  25.  75.]\n",
      "  [ 75.  25.  75.  75.  25.]]]\n"
     ]
    }
   ],
   "source": [
    "\"\"\"\n",
    "#17. Print d and f. Do you have your expected f?\n",
    "For instance, if your d is:\n",
    "array([[[1.85836099, 1.67064465, 1.62576044, 1.40243961, 1.88454931],\n",
    "        [1.75354326, 1.69403643, 1.36729252, 1.61415071, 1.12104981],\n",
    "        [1.72201435, 1.1862918 , 1.87078449, 1.7726778 , 1.88180042]],\n",
    "\n",
    "       [[1.44747908, 1.31673383, 1.02000951, 1.52218947, 1.97066381],\n",
    "        [1.79129243, 1.74983003, 1.96028037, 1.85166831, 1.65450881],\n",
    "        [1.18068344, 1.9587381 , 1.00656599, 1.93402165, 1.73514584]]])\n",
    "\n",
    "Your f should be:\n",
    "array([[[ 75.,  75.,  75.,  25.,  75.],\n",
    "        [ 75.,  75.,  25.,  25.,  25.],\n",
    "        [ 75.,  25.,  75.,  75.,  75.]],\n",
    "\n",
    "       [[ 25.,  25.,  25.,  25., 100.],\n",
    "        [ 75.,  75.,  75.,  75.,  75.],\n",
    "        [ 25.,  75.,   0.,  75.,  75.]]])\n",
    "\"\"\"\n",
    "print(d)\n",
    "print(f)\n",
    "     "
   ]
  },
  {
   "cell_type": "code",
   "execution_count": null,
   "id": "049b90a6",
   "metadata": {},
   "outputs": [],
   "source": [
    "\"\"\"\n",
    "#18. Bonus question: instead of using numbers (i.e. 0, 25, 50, 75, and 100), how to use string values \n",
    "(\"A\", \"B\", \"C\", \"D\", and \"E\") to label the array elements? You are expecting the result to be:\n",
    "array([[[ 'D',  'D',  'D',  'B',  'D'],\n",
    "        [ 'D',  'D',  'B',  'B',  'B'],\n",
    "        [ 'D',  'B',  'D',  'D',  'D']],\n",
    "\n",
    "       [[ 'B',  'B',  'B',  'B',  'E'],\n",
    "        [ 'D',  'D',  'D',  'D',  'D'],\n",
    "        [ 'B',  'D',   'A',  'D', 'D']]])\n",
    "Again, you don't need Numpy in this question.\n",
    "\"\"\""
   ]
  },
  {
   "cell_type": "code",
   "execution_count": null,
   "id": "2fbb47e0",
   "metadata": {},
   "outputs": [],
   "source": []
  },
  {
   "cell_type": "code",
   "execution_count": null,
   "id": "63c9c3de",
   "metadata": {},
   "outputs": [],
   "source": []
  },
  {
   "cell_type": "code",
   "execution_count": null,
   "id": "ab0dff4b",
   "metadata": {},
   "outputs": [],
   "source": []
  },
  {
   "cell_type": "code",
   "execution_count": null,
   "id": "1cd61c00",
   "metadata": {},
   "outputs": [],
   "source": []
  },
  {
   "cell_type": "code",
   "execution_count": null,
   "id": "53c252ff",
   "metadata": {},
   "outputs": [],
   "source": []
  }
 ],
 "metadata": {
  "kernelspec": {
   "display_name": "Python 3 (ipykernel)",
   "language": "python",
   "name": "python3"
  },
  "language_info": {
   "codemirror_mode": {
    "name": "ipython",
    "version": 3
   },
   "file_extension": ".py",
   "mimetype": "text/x-python",
   "name": "python",
   "nbconvert_exporter": "python",
   "pygments_lexer": "ipython3",
   "version": "3.10.9"
  }
 },
 "nbformat": 4,
 "nbformat_minor": 5
}
