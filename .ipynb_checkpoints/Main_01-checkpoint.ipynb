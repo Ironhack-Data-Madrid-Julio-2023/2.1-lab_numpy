{
 "cells": [
  {
   "cell_type": "code",
   "execution_count": null,
   "id": "b693302a",
   "metadata": {},
   "outputs": [],
   "source": [
    "#1. Import the NUMPY package under the name np."
   ]
  },
  {
   "cell_type": "code",
   "execution_count": 10,
   "id": "cc5c5760",
   "metadata": {},
   "outputs": [
    {
     "name": "stdout",
     "output_type": "stream",
     "text": [
      "Requirement already satisfied: numpy in /Volumes/Esteban/APLICACIONES/anaconda3/lib/python3.10/site-packages (1.23.5)\n",
      "Note: you may need to restart the kernel to use updated packages.\n"
     ]
    }
   ],
   "source": [
    "%pip install numpy\n",
    "\n",
    "import numpy as np"
   ]
  },
  {
   "cell_type": "code",
   "execution_count": 9,
   "id": "d4a3e8c3",
   "metadata": {},
   "outputs": [],
   "source": [
    "#2. Print the NUMPY version and the configuration.\n",
    "#4. Print a."
   ]
  },
  {
   "cell_type": "code",
   "execution_count": 12,
   "id": "105ec4cd",
   "metadata": {},
   "outputs": [
    {
     "data": {
      "text/plain": [
       "'1.23.5'"
      ]
     },
     "execution_count": 12,
     "metadata": {},
     "output_type": "execute_result"
    }
   ],
   "source": [
    "np.__version__ # version de NUMPY"
   ]
  },
  {
   "cell_type": "code",
   "execution_count": 13,
   "id": "99c34667",
   "metadata": {},
   "outputs": [
    {
     "name": "stdout",
     "output_type": "stream",
     "text": [
      "blas_armpl_info:\n",
      "  NOT AVAILABLE\n",
      "blas_mkl_info:\n",
      "  NOT AVAILABLE\n",
      "blis_info:\n",
      "  NOT AVAILABLE\n",
      "openblas_info:\n",
      "    libraries = ['openblas', 'openblas']\n",
      "    library_dirs = ['/Volumes/Esteban/APLICACIONES/anaconda3/lib']\n",
      "    language = c\n",
      "    define_macros = [('HAVE_CBLAS', None)]\n",
      "blas_opt_info:\n",
      "    libraries = ['openblas', 'openblas']\n",
      "    library_dirs = ['/Volumes/Esteban/APLICACIONES/anaconda3/lib']\n",
      "    language = c\n",
      "    define_macros = [('HAVE_CBLAS', None)]\n",
      "lapack_armpl_info:\n",
      "  NOT AVAILABLE\n",
      "lapack_mkl_info:\n",
      "  NOT AVAILABLE\n",
      "openblas_lapack_info:\n",
      "    libraries = ['openblas', 'openblas']\n",
      "    library_dirs = ['/Volumes/Esteban/APLICACIONES/anaconda3/lib']\n",
      "    language = c\n",
      "    define_macros = [('HAVE_CBLAS', None)]\n",
      "lapack_opt_info:\n",
      "    libraries = ['openblas', 'openblas']\n",
      "    library_dirs = ['/Volumes/Esteban/APLICACIONES/anaconda3/lib']\n",
      "    language = c\n",
      "    define_macros = [('HAVE_CBLAS', None)]\n",
      "Supported SIMD extensions in this NumPy install:\n",
      "    baseline = SSE,SSE2,SSE3\n",
      "    found = SSSE3,SSE41,POPCNT,SSE42,AVX,F16C,FMA3,AVX2\n",
      "    not found = AVX512F,AVX512CD,AVX512_KNL,AVX512_SKX,AVX512_CLX,AVX512_CNL,AVX512_ICL\n"
     ]
    }
   ],
   "source": [
    "np.show_config() # configuracion de NUMPY"
   ]
  },
  {
   "cell_type": "code",
   "execution_count": null,
   "id": "2697995f",
   "metadata": {},
   "outputs": [],
   "source": [
    "#3. Generate a 2x3x5 3-dimensional array with random values. Assign the array to variable \"a\"\n",
    "# Challenge: there are at least three easy ways that use numpy to generate random arrays. How many ways can you find?"
   ]
  },
  {
   "cell_type": "code",
   "execution_count": 61,
   "id": "1649577b",
   "metadata": {},
   "outputs": [
    {
     "data": {
      "text/plain": [
       "array([[[0.17201674, 0.65883479, 0.19218349, 0.12893702, 0.64564765],\n",
       "        [0.42694824, 0.85406315, 0.31154698, 0.36462524, 0.70956751],\n",
       "        [0.04947174, 0.00928266, 0.54047365, 0.51627392, 0.12632427]],\n",
       "\n",
       "       [[0.36998961, 0.6345354 , 0.21337984, 0.89200596, 0.40975285],\n",
       "        [0.14777469, 0.46600377, 0.56029036, 0.99953064, 0.34301319],\n",
       "        [0.02256938, 0.18260447, 0.95696226, 0.0151958 , 0.47010021]]])"
      ]
     },
     "execution_count": 61,
     "metadata": {},
     "output_type": "execute_result"
    }
   ],
   "source": [
    "a= np.random.random((2, 3, 5))\n",
    "a"
   ]
  },
  {
   "cell_type": "code",
   "execution_count": 62,
   "id": "cc531a43",
   "metadata": {},
   "outputs": [
    {
     "data": {
      "text/plain": [
       "array([[[-0.05643736,  0.67306846, -0.32850888,  0.4856464 ,\n",
       "          0.52806717],\n",
       "        [ 0.12371812,  2.48453646,  0.84480305,  0.92762496,\n",
       "          1.45338684],\n",
       "        [ 0.60989626,  1.07637188, -1.39382434,  0.31704016,\n",
       "          0.68129608]],\n",
       "\n",
       "       [[-0.95722258, -0.28520684,  0.62805748, -0.68721776,\n",
       "         -0.09315436],\n",
       "        [-2.08333646,  0.97188763,  0.83245276,  0.18427856,\n",
       "          0.82280166],\n",
       "        [ 2.00660092,  1.16771608,  0.35825609,  1.05257178,\n",
       "          1.12784986]]])"
      ]
     },
     "execution_count": 62,
     "metadata": {},
     "output_type": "execute_result"
    }
   ],
   "source": [
    "a_1= np.random.randn(2, 3, 5)\n",
    "a_1"
   ]
  },
  {
   "cell_type": "code",
   "execution_count": 63,
   "id": "060704da",
   "metadata": {},
   "outputs": [
    {
     "data": {
      "text/plain": [
       "array([[[0.64477475, 0.08342087, 0.65469425, 0.82728291, 0.21577545],\n",
       "        [0.42183654, 0.42076   , 0.90362689, 0.14778708, 0.94296422],\n",
       "        [0.51832001, 0.75852857, 0.66586539, 0.66930382, 0.89702529]],\n",
       "\n",
       "       [[0.46792288, 0.44280692, 0.96087137, 0.4096532 , 0.15133868],\n",
       "        [0.44579565, 0.70837084, 0.50620738, 0.22856089, 0.02453932],\n",
       "        [0.48006473, 0.14502021, 0.25539745, 0.89384868, 0.37596119]]])"
      ]
     },
     "execution_count": 63,
     "metadata": {},
     "output_type": "execute_result"
    }
   ],
   "source": [
    "a_3 = np.random.rand(2, 3, 5)\n",
    "a_3"
   ]
  },
  {
   "cell_type": "code",
   "execution_count": 64,
   "id": "6cb26b7c",
   "metadata": {},
   "outputs": [
    {
     "data": {
      "text/plain": [
       "array([[[3, 9, 7, 3, 0],\n",
       "        [8, 4, 8, 1, 1],\n",
       "        [9, 0, 2, 2, 1]],\n",
       "\n",
       "       [[5, 6, 3, 8, 7],\n",
       "        [5, 7, 9, 2, 6],\n",
       "        [5, 3, 1, 5, 3]]])"
      ]
     },
     "execution_count": 64,
     "metadata": {},
     "output_type": "execute_result"
    }
   ],
   "source": [
    "a_4 = np.random.randint(0, 10, size=(2, 3, 5)) #números enteros aleatorios en el rango de 0 a 9 (ambos incluidos).\n",
    "a_4"
   ]
  },
  {
   "cell_type": "code",
   "execution_count": 65,
   "id": "dbf89a1d",
   "metadata": {},
   "outputs": [
    {
     "data": {
      "text/plain": [
       "array([[[0.57351585, 0.79754821, 0.35081918, 0.11323568, 0.71698768],\n",
       "        [0.66329913, 0.73760947, 0.41269958, 0.15999345, 0.31298959],\n",
       "        [0.14920006, 0.0365128 , 0.95071051, 0.6519    , 0.01553264]],\n",
       "\n",
       "       [[0.17978435, 0.49475963, 0.55597931, 0.09528301, 0.2138903 ],\n",
       "        [0.58851904, 0.57550566, 0.68633343, 0.94548519, 0.4686301 ],\n",
       "        [0.61522092, 0.56564788, 0.93884693, 0.89306893, 0.56584766]]])"
      ]
     },
     "execution_count": 65,
     "metadata": {},
     "output_type": "execute_result"
    }
   ],
   "source": [
    "a_5= np.random.random_sample((2, 3, 5)) #números aleatorios en el rango [0.0, 1.0).\n",
    "a_5"
   ]
  },
  {
   "cell_type": "code",
   "execution_count": 66,
   "id": "353f7b4d",
   "metadata": {},
   "outputs": [
    {
     "name": "stderr",
     "output_type": "stream",
     "text": [
      "/var/folders/lf/9ndmv9xn2dl465fyf8f37qv40000gn/T/ipykernel_6392/313921788.py:1: DeprecationWarning: This function is deprecated. Please call randint(1, 5 + 1) instead\n",
      "  a_6=np.random.random_integers(1, 5, size=(2, 3, 5))# np.random.randint misma funcion\n"
     ]
    },
    {
     "data": {
      "text/plain": [
       "array([[[2, 3, 3, 3, 2],\n",
       "        [1, 4, 5, 2, 1],\n",
       "        [1, 4, 3, 1, 5]],\n",
       "\n",
       "       [[3, 5, 4, 5, 1],\n",
       "        [1, 3, 1, 1, 1],\n",
       "        [4, 4, 1, 1, 2]]])"
      ]
     },
     "execution_count": 66,
     "metadata": {},
     "output_type": "execute_result"
    }
   ],
   "source": [
    "a_6=np.random.random_integers(1, 5, size=(2, 3, 5))# np.random.randint misma funcion\n",
    "a_6 "
   ]
  },
  {
   "cell_type": "code",
   "execution_count": 67,
   "id": "44029514",
   "metadata": {},
   "outputs": [],
   "source": [
    "#5. Create a 5x2x3 3-dimensional array with all values equaling 1.\n",
    "#Assign the array to variable \"b\"\n",
    "#6. Print b."
   ]
  },
  {
   "cell_type": "code",
   "execution_count": 68,
   "id": "a5665dc3",
   "metadata": {},
   "outputs": [
    {
     "data": {
      "text/plain": [
       "array([[[1., 1., 1.],\n",
       "        [1., 1., 1.]],\n",
       "\n",
       "       [[1., 1., 1.],\n",
       "        [1., 1., 1.]],\n",
       "\n",
       "       [[1., 1., 1.],\n",
       "        [1., 1., 1.]],\n",
       "\n",
       "       [[1., 1., 1.],\n",
       "        [1., 1., 1.]],\n",
       "\n",
       "       [[1., 1., 1.],\n",
       "        [1., 1., 1.]]])"
      ]
     },
     "execution_count": 68,
     "metadata": {},
     "output_type": "execute_result"
    }
   ],
   "source": [
    "b= np.ones((5, 2, 3))\n",
    "b"
   ]
  },
  {
   "cell_type": "code",
   "execution_count": null,
   "id": "224e1827",
   "metadata": {},
   "outputs": [],
   "source": [
    "#7. Do a and b have the same size? How do you prove that in Python code?\n"
   ]
  },
  {
   "cell_type": "code",
   "execution_count": 69,
   "id": "6f1e4388",
   "metadata": {},
   "outputs": [
    {
     "data": {
      "text/plain": [
       "array([[[0.17201674, 0.65883479, 0.19218349, 0.12893702, 0.64564765],\n",
       "        [0.42694824, 0.85406315, 0.31154698, 0.36462524, 0.70956751],\n",
       "        [0.04947174, 0.00928266, 0.54047365, 0.51627392, 0.12632427]],\n",
       "\n",
       "       [[0.36998961, 0.6345354 , 0.21337984, 0.89200596, 0.40975285],\n",
       "        [0.14777469, 0.46600377, 0.56029036, 0.99953064, 0.34301319],\n",
       "        [0.02256938, 0.18260447, 0.95696226, 0.0151958 , 0.47010021]]])"
      ]
     },
     "execution_count": 69,
     "metadata": {},
     "output_type": "execute_result"
    }
   ],
   "source": [
    "np.shape(a)\n",
    "a"
   ]
  },
  {
   "cell_type": "code",
   "execution_count": 70,
   "id": "7f1999a4",
   "metadata": {},
   "outputs": [
    {
     "data": {
      "text/plain": [
       "array([[[1., 1., 1.],\n",
       "        [1., 1., 1.]],\n",
       "\n",
       "       [[1., 1., 1.],\n",
       "        [1., 1., 1.]],\n",
       "\n",
       "       [[1., 1., 1.],\n",
       "        [1., 1., 1.]],\n",
       "\n",
       "       [[1., 1., 1.],\n",
       "        [1., 1., 1.]],\n",
       "\n",
       "       [[1., 1., 1.],\n",
       "        [1., 1., 1.]]])"
      ]
     },
     "execution_count": 70,
     "metadata": {},
     "output_type": "execute_result"
    }
   ],
   "source": [
    "np.shape(b)\n",
    "b"
   ]
  },
  {
   "cell_type": "code",
   "execution_count": 71,
   "id": "4830ada6",
   "metadata": {},
   "outputs": [
    {
     "name": "stdout",
     "output_type": "stream",
     "text": [
      "El tamaño es diferente\n"
     ]
    }
   ],
   "source": [
    "tamaño_a = np.shape(a)\n",
    "tamaño_b = np.shape(b)\n",
    "\n",
    "if tamaño_a == tamaño_b:\n",
    "    print('El tamaño es igual')\n",
    "else:\n",
    "    print('El tamaño es diferente')"
   ]
  },
  {
   "cell_type": "code",
   "execution_count": null,
   "id": "ab835cd5",
   "metadata": {},
   "outputs": [],
   "source": [
    "#8. Are you able to add a and b? Why or why not?\n"
   ]
  },
  {
   "cell_type": "code",
   "execution_count": null,
   "id": "138e8d59",
   "metadata": {},
   "outputs": [],
   "source": [
    "    # La matriz \"a\" tiene una forma de (2, 3, 5), lo que significa que tiene 2 bloques, cada bloque con 3 filas y 5 columnas.\n",
    "    # La matriz \"b\" tiene una forma de (5, 2, 3), lo que significa que tiene 5 bloques, cada bloque con 2 filas y 3 columnas.\n",
    "    # Para sumar las matrices \"a\" y \"b\", deben tener la misma forma"
   ]
  },
  {
   "cell_type": "code",
   "execution_count": null,
   "id": "64436ead",
   "metadata": {},
   "outputs": [],
   "source": [
    "#9. Transpose b so that it has the same structure of a (i.e. become a 2x3x5 array). Assign the transposed array to variable \"c\"."
   ]
  },
  {
   "cell_type": "code",
   "execution_count": 72,
   "id": "9bc8b33a",
   "metadata": {},
   "outputs": [
    {
     "data": {
      "text/plain": [
       "array([[[1., 1., 1., 1., 1.],\n",
       "        [1., 1., 1., 1., 1.],\n",
       "        [1., 1., 1., 1., 1.]],\n",
       "\n",
       "       [[1., 1., 1., 1., 1.],\n",
       "        [1., 1., 1., 1., 1.],\n",
       "        [1., 1., 1., 1., 1.]]])"
      ]
     },
     "execution_count": 72,
     "metadata": {},
     "output_type": "execute_result"
    }
   ],
   "source": [
    "# a = 2 x 3 x 5 // b = 5 x 2 x 3\n",
    "\n",
    "# a = indice 2 (0), indice 3 (1), indice 5 (2)\n",
    "# b = indice 5 (0), indice 2 (1), indice 3 (2)\n",
    "\n",
    "c = np.transpose(b, (1, 2, 0)) # la primera dimensión de \"b\" (índice 0),  la segunda dimensión de \"b\" (índice 1), (índice 2) será la segunda dimensión en \"c\"\n",
    "c"
   ]
  },
  {
   "cell_type": "code",
   "execution_count": null,
   "id": "e77c8c65",
   "metadata": {},
   "outputs": [],
   "source": [
    "#10. Try to add a and c. Now it should work. Assign the sum to varialbe \"d\". But why does it work now?\n"
   ]
  },
  {
   "cell_type": "code",
   "execution_count": 73,
   "id": "a3a4519c",
   "metadata": {},
   "outputs": [
    {
     "data": {
      "text/plain": [
       "array([[[1.17201674, 1.65883479, 1.19218349, 1.12893702, 1.64564765],\n",
       "        [1.42694824, 1.85406315, 1.31154698, 1.36462524, 1.70956751],\n",
       "        [1.04947174, 1.00928266, 1.54047365, 1.51627392, 1.12632427]],\n",
       "\n",
       "       [[1.36998961, 1.6345354 , 1.21337984, 1.89200596, 1.40975285],\n",
       "        [1.14777469, 1.46600377, 1.56029036, 1.99953064, 1.34301319],\n",
       "        [1.02256938, 1.18260447, 1.95696226, 1.0151958 , 1.47010021]]])"
      ]
     },
     "execution_count": 73,
     "metadata": {},
     "output_type": "execute_result"
    }
   ],
   "source": [
    "d = a + c\n",
    "d\n",
    "\n",
    "#ahora funciona porque \"b\" ahora \"c\" es tiene una forma de a es decir (2, 3, 5), lo que significa que tiene 2 bloques, cada bloque con 3 filas y 5 columnas."
   ]
  },
  {
   "cell_type": "code",
   "execution_count": null,
   "id": "9356142c",
   "metadata": {},
   "outputs": [],
   "source": [
    "#11. Print a and d. Notice the difference and relation of the two array in terms of the values? Explain.\n",
    "\n",
    "# Ha sumado a los 0 a los 1 de la matriz b, se debe a que la suma se realiza elemento a elemento.\n"
   ]
  },
  {
   "cell_type": "code",
   "execution_count": 74,
   "id": "43984faf",
   "metadata": {},
   "outputs": [
    {
     "name": "stdout",
     "output_type": "stream",
     "text": [
      "[[[0.17201674 0.65883479 0.19218349 0.12893702 0.64564765]\n",
      "  [0.42694824 0.85406315 0.31154698 0.36462524 0.70956751]\n",
      "  [0.04947174 0.00928266 0.54047365 0.51627392 0.12632427]]\n",
      "\n",
      " [[0.36998961 0.6345354  0.21337984 0.89200596 0.40975285]\n",
      "  [0.14777469 0.46600377 0.56029036 0.99953064 0.34301319]\n",
      "  [0.02256938 0.18260447 0.95696226 0.0151958  0.47010021]]]\n"
     ]
    }
   ],
   "source": [
    "print (a)"
   ]
  },
  {
   "cell_type": "code",
   "execution_count": 75,
   "id": "ef655ce5",
   "metadata": {},
   "outputs": [
    {
     "name": "stdout",
     "output_type": "stream",
     "text": [
      "[[[1.17201674 1.65883479 1.19218349 1.12893702 1.64564765]\n",
      "  [1.42694824 1.85406315 1.31154698 1.36462524 1.70956751]\n",
      "  [1.04947174 1.00928266 1.54047365 1.51627392 1.12632427]]\n",
      "\n",
      " [[1.36998961 1.6345354  1.21337984 1.89200596 1.40975285]\n",
      "  [1.14777469 1.46600377 1.56029036 1.99953064 1.34301319]\n",
      "  [1.02256938 1.18260447 1.95696226 1.0151958  1.47010021]]]\n"
     ]
    }
   ],
   "source": [
    "print (d)"
   ]
  },
  {
   "cell_type": "code",
   "execution_count": null,
   "id": "800fa9ff",
   "metadata": {},
   "outputs": [],
   "source": [
    "#12. Multiply a and c. Assign the result to e.\n"
   ]
  },
  {
   "cell_type": "code",
   "execution_count": 77,
   "id": "9569582d",
   "metadata": {},
   "outputs": [
    {
     "data": {
      "text/plain": [
       "array([[[0.17201674, 0.65883479, 0.19218349, 0.12893702, 0.64564765],\n",
       "        [0.42694824, 0.85406315, 0.31154698, 0.36462524, 0.70956751],\n",
       "        [0.04947174, 0.00928266, 0.54047365, 0.51627392, 0.12632427]],\n",
       "\n",
       "       [[0.36998961, 0.6345354 , 0.21337984, 0.89200596, 0.40975285],\n",
       "        [0.14777469, 0.46600377, 0.56029036, 0.99953064, 0.34301319],\n",
       "        [0.02256938, 0.18260447, 0.95696226, 0.0151958 , 0.47010021]]])"
      ]
     },
     "execution_count": 77,
     "metadata": {},
     "output_type": "execute_result"
    }
   ],
   "source": [
    "e = a * c\n",
    "e"
   ]
  },
  {
   "cell_type": "code",
   "execution_count": null,
   "id": "b403b84a",
   "metadata": {},
   "outputs": [],
   "source": [
    "#13. Does e equal to a? Why or why not?\n",
    "\n",
    "# Es igual por que la matriz de \"c\" son todos unos, a*1, \"e\" será igual al elemento correspondiente en \"a\"."
   ]
  },
  {
   "cell_type": "code",
   "execution_count": 81,
   "id": "1fa9676d",
   "metadata": {},
   "outputs": [
    {
     "data": {
      "text/plain": [
       "array([[[False, False, False, False, False],\n",
       "        [False, False, False, False, False],\n",
       "        [False, False, False, False, False]],\n",
       "\n",
       "       [[False, False, False, False, False],\n",
       "        [False, False, False, False, False],\n",
       "        [False, False, False, False, False]]])"
      ]
     },
     "execution_count": 81,
     "metadata": {},
     "output_type": "execute_result"
    }
   ],
   "source": [
    "e == c"
   ]
  },
  {
   "cell_type": "code",
   "execution_count": 82,
   "id": "15970f8f",
   "metadata": {},
   "outputs": [
    {
     "data": {
      "text/plain": [
       "array([[[ True,  True,  True,  True,  True],\n",
       "        [ True,  True,  True,  True,  True],\n",
       "        [ True,  True,  True,  True,  True]],\n",
       "\n",
       "       [[ True,  True,  True,  True,  True],\n",
       "        [ True,  True,  True,  True,  True],\n",
       "        [ True,  True,  True,  True,  True]]])"
      ]
     },
     "execution_count": 82,
     "metadata": {},
     "output_type": "execute_result"
    }
   ],
   "source": [
    "a == e"
   ]
  },
  {
   "cell_type": "code",
   "execution_count": 79,
   "id": "45872e92",
   "metadata": {},
   "outputs": [
    {
     "data": {
      "text/plain": [
       "True"
      ]
     },
     "execution_count": 79,
     "metadata": {},
     "output_type": "execute_result"
    }
   ],
   "source": [
    "np.array_equal(a, e)"
   ]
  },
  {
   "cell_type": "code",
   "execution_count": null,
   "id": "07cef75f",
   "metadata": {},
   "outputs": [],
   "source": [
    "#14. Identify the max, min, and mean values in d. Assign those values to variables \"d_max\", \"d_min\", and \"d_mean\"\n"
   ]
  },
  {
   "cell_type": "code",
   "execution_count": 105,
   "id": "365d5a30",
   "metadata": {},
   "outputs": [
    {
     "data": {
      "text/plain": [
       "1.9995306434089963"
      ]
     },
     "execution_count": 105,
     "metadata": {},
     "output_type": "execute_result"
    }
   ],
   "source": [
    "d_max = d.max()\n",
    "dmax"
   ]
  },
  {
   "cell_type": "code",
   "execution_count": 106,
   "id": "9447e42c",
   "metadata": {},
   "outputs": [
    {
     "data": {
      "text/plain": [
       "1.0092826558379238"
      ]
     },
     "execution_count": 106,
     "metadata": {},
     "output_type": "execute_result"
    }
   ],
   "source": [
    "d_min = d.min()\n",
    "d_min"
   ]
  },
  {
   "cell_type": "code",
   "execution_count": 107,
   "id": "f69b8afb",
   "metadata": {},
   "outputs": [
    {
     "data": {
      "text/plain": [
       "1.412996849855102"
      ]
     },
     "execution_count": 107,
     "metadata": {},
     "output_type": "execute_result"
    }
   ],
   "source": [
    "d_mean= d.mean()\n",
    "d_mean"
   ]
  },
  {
   "cell_type": "code",
   "execution_count": null,
   "id": "d276cc39",
   "metadata": {},
   "outputs": [],
   "source": [
    "#15. Now we want to label the values in d. First create an empty array \"f\" with the same shape (i.e. 2x3x5) as d using `np.empty`.\n"
   ]
  },
  {
   "cell_type": "code",
   "execution_count": 108,
   "id": "de632987",
   "metadata": {},
   "outputs": [
    {
     "name": "stdout",
     "output_type": "stream",
     "text": [
      "[[[1.17201674 1.65883479 1.19218349 1.12893702 1.64564765]\n",
      "  [1.42694824 1.85406315 1.31154698 1.36462524 1.70956751]\n",
      "  [1.04947174 1.00928266 1.54047365 1.51627392 1.12632427]]\n",
      "\n",
      " [[1.36998961 1.6345354  1.21337984 1.89200596 1.40975285]\n",
      "  [1.14777469 1.46600377 1.56029036 1.99953064 1.34301319]\n",
      "  [1.02256938 1.18260447 1.95696226 1.0151958  1.47010021]]]\n"
     ]
    }
   ],
   "source": [
    "print(d)"
   ]
  },
  {
   "cell_type": "code",
   "execution_count": 109,
   "id": "7ccf02d8",
   "metadata": {},
   "outputs": [],
   "source": [
    "f = np.random.random((2, 3, 5))"
   ]
  },
  {
   "cell_type": "code",
   "execution_count": 110,
   "id": "2730ef75",
   "metadata": {},
   "outputs": [
    {
     "data": {
      "text/plain": [
       "array([[[1.17201674, 1.65883479, 1.19218349, 1.12893702, 1.64564765],\n",
       "        [1.42694824, 1.85406315, 1.31154698, 1.36462524, 1.70956751],\n",
       "        [1.04947174, 1.00928266, 1.54047365, 1.51627392, 1.12632427]],\n",
       "\n",
       "       [[1.36998961, 1.6345354 , 1.21337984, 1.89200596, 1.40975285],\n",
       "        [1.14777469, 1.46600377, 1.56029036, 1.99953064, 1.34301319],\n",
       "        [1.02256938, 1.18260447, 1.95696226, 1.0151958 , 1.47010021]]])"
      ]
     },
     "execution_count": 110,
     "metadata": {},
     "output_type": "execute_result"
    }
   ],
   "source": [
    "f = np.empty_like(d)\n",
    "f"
   ]
  },
  {
   "cell_type": "code",
   "execution_count": null,
   "id": "325b700e",
   "metadata": {},
   "outputs": [],
   "source": [
    "#16. Populate the values in f.\n",
    "For each value in d, if it's larger than d_min but smaller than d_mean, assign 25 to the corresponding value in f.\n",
    "If a value in d is larger than d_mean but smaller than d_max, assign 75 to the corresponding value in f.\n",
    "If a value equals to d_mean, assign 50 to the corresponding value in f.\n",
    "Assign 0 to the corresponding value(s) in f for d_min in d.\n",
    "Assign 100 to the corresponding value(s) in f for d_max in d.\n",
    "In the end, f should have only the following values: 0, 25, 50, 75, and 100.\n",
    "Note: you don't have to use Numpy in this question."
   ]
  },
  {
   "cell_type": "code",
   "execution_count": 122,
   "id": "2f9df152",
   "metadata": {},
   "outputs": [
    {
     "name": "stdout",
     "output_type": "stream",
     "text": [
      "[[[ 25  75  25  25  75]\n",
      "  [ 75  75  25  25  75]\n",
      "  [ 25   0  75  75  25]]\n",
      "\n",
      " [[ 25  75  25  75  25]\n",
      "  [ 25  75  75 100  25]\n",
      "  [ 25  25  75  25  75]]]\n"
     ]
    }
   ],
   "source": [
    "def calculate_value(f):\n",
    "    \n",
    "    if d_min < f < d_mean:\n",
    "        return 25\n",
    "    \n",
    "    elif d_mean < f < d_max:\n",
    "        return 75\n",
    "        \n",
    "    elif f == d_mean: \n",
    "        return 50\n",
    "        \n",
    "    elif f == d_min:\n",
    "        return 0\n",
    "        \n",
    "    else: \n",
    "        return 100\n",
    "    \n",
    "print(f)\n",
    "\n",
    "            "
   ]
  },
  {
   "cell_type": "code",
   "execution_count": 121,
   "id": "cd60f44b",
   "metadata": {},
   "outputs": [
    {
     "name": "stdout",
     "output_type": "stream",
     "text": [
      "[[[1.17201674 1.65883479 1.19218349 1.12893702 1.64564765]\n",
      "  [1.42694824 1.85406315 1.31154698 1.36462524 1.70956751]\n",
      "  [1.04947174 1.00928266 1.54047365 1.51627392 1.12632427]]\n",
      "\n",
      " [[1.36998961 1.6345354  1.21337984 1.89200596 1.40975285]\n",
      "  [1.14777469 1.46600377 1.56029036 1.99953064 1.34301319]\n",
      "  [1.02256938 1.18260447 1.95696226 1.0151958  1.47010021]]]\n",
      "[[[ 25  75  25  25  75]\n",
      "  [ 75  75  25  25  75]\n",
      "  [ 25   0  75  75  25]]\n",
      "\n",
      " [[ 25  75  25  75  25]\n",
      "  [ 25  75  75 100  25]\n",
      "  [ 25  25  75  25  75]]]\n"
     ]
    }
   ],
   "source": [
    "#17. Print d and f. Do you have your expected f?\n",
    "\n",
    "print (d)\n",
    "print (f)"
   ]
  },
  {
   "cell_type": "code",
   "execution_count": null,
   "id": "c0f691d9",
   "metadata": {},
   "outputs": [],
   "source": []
  }
 ],
 "metadata": {
  "kernelspec": {
   "display_name": "Python 3 (ipykernel)",
   "language": "python",
   "name": "python3"
  },
  "language_info": {
   "codemirror_mode": {
    "name": "ipython",
    "version": 3
   },
   "file_extension": ".py",
   "mimetype": "text/x-python",
   "name": "python",
   "nbconvert_exporter": "python",
   "pygments_lexer": "ipython3",
   "version": "3.10.9"
  }
 },
 "nbformat": 4,
 "nbformat_minor": 5
}
