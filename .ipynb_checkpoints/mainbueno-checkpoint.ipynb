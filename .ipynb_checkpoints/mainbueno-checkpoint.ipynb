{
 "cells": [
  {
   "cell_type": "code",
   "execution_count": 1,
   "id": "4d259fb1",
   "metadata": {},
   "outputs": [],
   "source": [
    "#1. Import the NUMPY package under the name np.\n",
    "import numpy as np"
   ]
  },
  {
   "cell_type": "code",
   "execution_count": 5,
   "id": "bac5fe02",
   "metadata": {},
   "outputs": [],
   "source": [
    "#2. Print the NUMPY version and the configuration.\n",
    "#print(\"NumPy version:\", np.__version__)\n",
    "\n",
    "# Print NumPy configuration\n",
    "#print(\"NumPy configuration:\")\n",
    "#np.show_config()"
   ]
  },
  {
   "cell_type": "code",
   "execution_count": 9,
   "id": "67256147",
   "metadata": {},
   "outputs": [],
   "source": [
    "#3. Generate a 2x3x5 3-dimensional array with random values. Assign the array to variable \"a\"\n",
    "# Challenge: there are at least three easy ways that use numpy to generate random arrays. How many ways can you find?\n",
    "\n",
    "\n",
    "# Generar un array tridimensional con valores aleatorios\n",
    "a = np.random.random((2, 3, 5))"
   ]
  },
  {
   "cell_type": "code",
   "execution_count": 10,
   "id": "b7416294",
   "metadata": {},
   "outputs": [
    {
     "name": "stdout",
     "output_type": "stream",
     "text": [
      "[[[0.42937977 0.28100519 0.6927311  0.43961345 0.87463356]\n",
      "  [0.66279429 0.88301743 0.9661869  0.37323245 0.08642842]\n",
      "  [0.05463836 0.80846871 0.05478478 0.34007661 0.26874549]]\n",
      "\n",
      " [[0.58556003 0.92028364 0.68939901 0.19299682 0.05506112]\n",
      "  [0.22660109 0.35847053 0.22515091 0.21227978 0.9017221 ]\n",
      "  [0.40931651 0.12673254 0.10840313 0.96493694 0.58012948]]]\n"
     ]
    }
   ],
   "source": [
    "#4. Print a.\n",
    "print(a)"
   ]
  },
  {
   "cell_type": "code",
   "execution_count": 11,
   "id": "0ac416b5",
   "metadata": {},
   "outputs": [],
   "source": [
    "#5. Create a 5x2x3 3-dimensional array with all values equaling 1.\n",
    "#Assign the array to variable \"b\"\n",
    "\n",
    "# Crear un array tridimensional con todos los valores iguales a 1\n",
    "b = np.ones((5, 2, 3))"
   ]
  },
  {
   "cell_type": "code",
   "execution_count": 12,
   "id": "a7af0f95",
   "metadata": {},
   "outputs": [
    {
     "name": "stdout",
     "output_type": "stream",
     "text": [
      "[[[1. 1. 1.]\n",
      "  [1. 1. 1.]]\n",
      "\n",
      " [[1. 1. 1.]\n",
      "  [1. 1. 1.]]\n",
      "\n",
      " [[1. 1. 1.]\n",
      "  [1. 1. 1.]]\n",
      "\n",
      " [[1. 1. 1.]\n",
      "  [1. 1. 1.]]\n",
      "\n",
      " [[1. 1. 1.]\n",
      "  [1. 1. 1.]]]\n"
     ]
    }
   ],
   "source": [
    "print(b)"
   ]
  },
  {
   "cell_type": "code",
   "execution_count": 13,
   "id": "4f87f01e",
   "metadata": {},
   "outputs": [
    {
     "name": "stdout",
     "output_type": "stream",
     "text": [
      "a y b tienen el mismo tamaño\n"
     ]
    }
   ],
   "source": [
    "#7. Do a and b have the same size? How do you prove that in Python code?\n",
    "\n",
    "# Verificar el tamaño de los arrays a y b\n",
    "if a.size == b.size:\n",
    "    print(\"a y b tienen el mismo tamaño\")\n",
    "else:\n",
    "    print(\"a y b no tienen el mismo tamaño\")"
   ]
  },
  {
   "cell_type": "code",
   "execution_count": 14,
   "id": "62d08fc0",
   "metadata": {},
   "outputs": [
    {
     "ename": "ValueError",
     "evalue": "operands could not be broadcast together with shapes (2,3,5) (5,2,3) ",
     "output_type": "error",
     "traceback": [
      "\u001b[1;31m---------------------------------------------------------------------------\u001b[0m",
      "\u001b[1;31mValueError\u001b[0m                                Traceback (most recent call last)",
      "Cell \u001b[1;32mIn[14], line 4\u001b[0m\n\u001b[0;32m      1\u001b[0m \u001b[38;5;66;03m#8. Are you able to add a and b? Why or why not?\u001b[39;00m\n\u001b[0;32m      2\u001b[0m \n\u001b[0;32m      3\u001b[0m \u001b[38;5;66;03m# Sumar los arrays a y b\u001b[39;00m\n\u001b[1;32m----> 4\u001b[0m c \u001b[38;5;241m=\u001b[39m \u001b[43ma\u001b[49m\u001b[43m \u001b[49m\u001b[38;5;241;43m+\u001b[39;49m\u001b[43m \u001b[49m\u001b[43mb\u001b[49m\n",
      "\u001b[1;31mValueError\u001b[0m: operands could not be broadcast together with shapes (2,3,5) (5,2,3) "
     ]
    }
   ],
   "source": [
    "#8. Are you able to add a and b? Why or why not?\n",
    "\n",
    "# Sumar los arrays a y b\n",
    "c = a + b"
   ]
  },
  {
   "cell_type": "code",
   "execution_count": null,
   "id": "78302297",
   "metadata": {},
   "outputs": [],
   "source": [
    "#Los arrays a y b no tienen las mismas dimensiones, la suma no se podrá realizar; es por lo que me da error.\n",
    "#Solo podemos sumar a y b siempre y cuando tengan las mismas dimensiones."
   ]
  },
  {
   "cell_type": "code",
   "execution_count": 16,
   "id": "f1a073ec",
   "metadata": {},
   "outputs": [],
   "source": [
    "#9. Transpose b so that it has the same structure of a (i.e. become a 2x3x5 array). Assign the transposed array to varialbe \"c\".\n",
    "\n",
    "# Transponer el array b\n",
    "c = np.transpose(b, (1, 2, 0))"
   ]
  },
  {
   "cell_type": "code",
   "execution_count": 17,
   "id": "ddf154fc",
   "metadata": {},
   "outputs": [],
   "source": [
    "#10. Try to add a and c. Now it should work. Assign the sum to varialbe \"d\". But why does it work now?\n",
    "\n",
    "# Sumar los arrays a y c\n",
    "d = a + c\n",
    "#Ahora funciona porque tienen las mismas dimensiones"
   ]
  },
  {
   "cell_type": "code",
   "execution_count": 18,
   "id": "107742ff",
   "metadata": {},
   "outputs": [
    {
     "data": {
      "text/plain": [
       "array([[[1.42937977, 1.28100519, 1.6927311 , 1.43961345, 1.87463356],\n",
       "        [1.66279429, 1.88301743, 1.9661869 , 1.37323245, 1.08642842],\n",
       "        [1.05463836, 1.80846871, 1.05478478, 1.34007661, 1.26874549]],\n",
       "\n",
       "       [[1.58556003, 1.92028364, 1.68939901, 1.19299682, 1.05506112],\n",
       "        [1.22660109, 1.35847053, 1.22515091, 1.21227978, 1.9017221 ],\n",
       "        [1.40931651, 1.12673254, 1.10840313, 1.96493694, 1.58012948]]])"
      ]
     },
     "execution_count": 18,
     "metadata": {},
     "output_type": "execute_result"
    }
   ],
   "source": [
    "#11. Print a and d. Notice the difference and relation of the two array in terms of the values? Explain.\n",
    "a\n",
    "d"
   ]
  },
  {
   "cell_type": "code",
   "execution_count": 20,
   "id": "26f629b1",
   "metadata": {},
   "outputs": [
    {
     "data": {
      "text/plain": [
       "array([[[0.42937977, 0.28100519, 0.6927311 , 0.43961345, 0.87463356],\n",
       "        [0.66279429, 0.88301743, 0.9661869 , 0.37323245, 0.08642842],\n",
       "        [0.05463836, 0.80846871, 0.05478478, 0.34007661, 0.26874549]],\n",
       "\n",
       "       [[0.58556003, 0.92028364, 0.68939901, 0.19299682, 0.05506112],\n",
       "        [0.22660109, 0.35847053, 0.22515091, 0.21227978, 0.9017221 ],\n",
       "        [0.40931651, 0.12673254, 0.10840313, 0.96493694, 0.58012948]]])"
      ]
     },
     "execution_count": 20,
     "metadata": {},
     "output_type": "execute_result"
    }
   ],
   "source": [
    "#12. Multiply a and c. Assign the result to e.\n",
    "\n",
    "# Multiplicar los arrays a y c\n",
    "e = a * c\n",
    "e"
   ]
  },
  {
   "cell_type": "code",
   "execution_count": null,
   "id": "0364254c",
   "metadata": {},
   "outputs": [],
   "source": [
    "#13. Does e equal to a? Why or why not?\n",
    "#No, el array e no es igual a a. La razón es que e es el resultado de multiplicar los elementos correspondientes de a y c, mientras que a es el array original con valores aleatorios."
   ]
  },
  {
   "cell_type": "code",
   "execution_count": 21,
   "id": "ce198dec",
   "metadata": {},
   "outputs": [],
   "source": [
    "#14. Identify the max, min, and mean values in d. Assign those values to variables \"d_max\", \"d_min\", and \"d_mean\"\n",
    "import numpy as np\n",
    "\n",
    "# Identificar valores máximos, mínimos y media en d\n",
    "d_max = np.max(d)\n",
    "d_min = np.min(d)\n",
    "d_mean = np.mean(d)"
   ]
  },
  {
   "cell_type": "code",
   "execution_count": 25,
   "id": "a5f9a5cc",
   "metadata": {},
   "outputs": [],
   "source": [
    "#15. Now we want to label the values in d. First create an empty array \"f\" with the same shape (i.e. 2x3x5) as d using `np.empty`.\n",
    "import numpy as np\n",
    "\n",
    "# Crear un array vacío f con la misma forma que d\n",
    "f = np.empty(d.shape)\n"
   ]
  },
  {
   "cell_type": "code",
   "execution_count": 28,
   "id": "482848b7",
   "metadata": {},
   "outputs": [],
   "source": [
    "#16. Populate the values in f. For each value in d, if it's larger than d_min but smaller than d_mean, assign 25 to the corresponding value in f.\n",
    "#If a value in d is larger than d_mean but smaller than d_max, assign 75 to the corresponding value in f.\n",
    "#If a value equals to d_mean, assign 50 to the corresponding value in f.\n",
    "#Assign 0 to the corresponding value(s) in f for d_min in d.\n",
    "#Assign 100 to the corresponding value(s) in f for d_max in d.\n",
    "#In the end, f should have only the following values: 0, 25, 50, 75, and 100.\n",
    "#Note: you don't have to use Numpy in this question.\n",
    "#\"\"\"\n",
    "\n",
    "# Obtener valores máximos, mínimos y media en d\n",
    "d_max = np.max(d)\n",
    "d_min = np.min(d)\n",
    "d_mean = np.mean(d)\n",
    "\n",
    "# Poblar los valores en f según las condiciones\n",
    "for i in range(d.shape[0]):\n",
    "    for j in range(d.shape[1]):\n",
    "        for k in range(d.shape[2]):\n",
    "            if d[i, j, k] > d_min and d[i, j, k] < d_mean:\n",
    "                f[i, j, k] = 25\n",
    "            elif d[i, j, k] > d_mean and d[i, j, k] < d_max:\n",
    "                f[i, j, k] = 75\n",
    "            elif d[i, j, k] == d_mean:\n",
    "                f[i, j, k] = 50\n",
    "            elif d[i, j, k] == d_min:\n",
    "                f[i, j, k] = 0\n",
    "            elif d[i, j, k] == d_max:\n",
    "                f[i, j, k] = 100"
   ]
  },
  {
   "cell_type": "code",
   "execution_count": 29,
   "id": "d5d9fb36",
   "metadata": {},
   "outputs": [
    {
     "data": {
      "text/plain": [
       "array([[[ 25.,  25.,  75.,  25.,  75.],\n",
       "        [ 75.,  75., 100.,  25.,  25.],\n",
       "        [  0.,  75.,  25.,  25.,  25.]],\n",
       "\n",
       "       [[ 75.,  75.,  75.,  25.,  25.],\n",
       "        [ 25.,  25.,  25.,  25.,  75.],\n",
       "        [ 25.,  25.,  25.,  75.,  75.]]])"
      ]
     },
     "execution_count": 29,
     "metadata": {},
     "output_type": "execute_result"
    }
   ],
   "source": [
    "\"\"\"\n",
    "#17. Print d and f. Do you have your expected f?\n",
    "For instance, if your d is:\n",
    "array([[[1.85836099, 1.67064465, 1.62576044, 1.40243961, 1.88454931],\n",
    "        [1.75354326, 1.69403643, 1.36729252, 1.61415071, 1.12104981],\n",
    "        [1.72201435, 1.1862918 , 1.87078449, 1.7726778 , 1.88180042]],\n",
    "\n",
    "       [[1.44747908, 1.31673383, 1.02000951, 1.52218947, 1.97066381],\n",
    "        [1.79129243, 1.74983003, 1.96028037, 1.85166831, 1.65450881],\n",
    "        [1.18068344, 1.9587381 , 1.00656599, 1.93402165, 1.73514584]]])\n",
    "\n",
    "Your f should be:\n",
    "array([[[ 75.,  75.,  75.,  25.,  75.],\n",
    "        [ 75.,  75.,  25.,  25.,  25.],\n",
    "        [ 75.,  25.,  75.,  75.,  75.]],\n",
    "\n",
    "       [[ 25.,  25.,  25.,  25., 100.],\n",
    "        [ 75.,  75.,  75.,  75.,  75.],\n",
    "        [ 25.,  75.,   0.,  75.,  75.]]])\n",
    "\"\"\"\n",
    "d\n",
    "f"
   ]
  },
  {
   "cell_type": "code",
   "execution_count": null,
   "id": "5c3c8931",
   "metadata": {},
   "outputs": [],
   "source": []
  }
 ],
 "metadata": {
  "kernelspec": {
   "display_name": "Python 3 (ipykernel)",
   "language": "python",
   "name": "python3"
  },
  "language_info": {
   "codemirror_mode": {
    "name": "ipython",
    "version": 3
   },
   "file_extension": ".py",
   "mimetype": "text/x-python",
   "name": "python",
   "nbconvert_exporter": "python",
   "pygments_lexer": "ipython3",
   "version": "3.10.9"
  }
 },
 "nbformat": 4,
 "nbformat_minor": 5
}
