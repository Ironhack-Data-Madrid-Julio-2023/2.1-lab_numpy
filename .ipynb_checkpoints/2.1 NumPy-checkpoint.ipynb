{
 "cells": [
  {
   "cell_type": "code",
   "execution_count": 1,
   "id": "1c6e3082",
   "metadata": {},
   "outputs": [],
   "source": [
    "#1. Import the NUMPY package under the name np."
   ]
  },
  {
   "cell_type": "code",
   "execution_count": 2,
   "id": "c76da40e",
   "metadata": {},
   "outputs": [],
   "source": [
    "import numpy as np"
   ]
  },
  {
   "cell_type": "code",
   "execution_count": 3,
   "id": "dbd5634f",
   "metadata": {},
   "outputs": [
    {
     "name": "stdout",
     "output_type": "stream",
     "text": [
      "openblas64__info:\n",
      "    libraries = ['openblas64_', 'openblas64_']\n",
      "    library_dirs = ['openblas\\\\lib']\n",
      "    language = c\n",
      "    define_macros = [('HAVE_CBLAS', None), ('BLAS_SYMBOL_SUFFIX', '64_'), ('HAVE_BLAS_ILP64', None)]\n",
      "    runtime_library_dirs = ['openblas\\\\lib']\n",
      "blas_ilp64_opt_info:\n",
      "    libraries = ['openblas64_', 'openblas64_']\n",
      "    library_dirs = ['openblas\\\\lib']\n",
      "    language = c\n",
      "    define_macros = [('HAVE_CBLAS', None), ('BLAS_SYMBOL_SUFFIX', '64_'), ('HAVE_BLAS_ILP64', None)]\n",
      "    runtime_library_dirs = ['openblas\\\\lib']\n",
      "openblas64__lapack_info:\n",
      "    libraries = ['openblas64_', 'openblas64_']\n",
      "    library_dirs = ['openblas\\\\lib']\n",
      "    language = c\n",
      "    define_macros = [('HAVE_CBLAS', None), ('BLAS_SYMBOL_SUFFIX', '64_'), ('HAVE_BLAS_ILP64', None), ('HAVE_LAPACKE', None)]\n",
      "    runtime_library_dirs = ['openblas\\\\lib']\n",
      "lapack_ilp64_opt_info:\n",
      "    libraries = ['openblas64_', 'openblas64_']\n",
      "    library_dirs = ['openblas\\\\lib']\n",
      "    language = c\n",
      "    define_macros = [('HAVE_CBLAS', None), ('BLAS_SYMBOL_SUFFIX', '64_'), ('HAVE_BLAS_ILP64', None), ('HAVE_LAPACKE', None)]\n",
      "    runtime_library_dirs = ['openblas\\\\lib']\n",
      "Supported SIMD extensions in this NumPy install:\n",
      "    baseline = SSE,SSE2,SSE3\n",
      "    found = SSSE3,SSE41,POPCNT,SSE42,AVX,F16C,FMA3,AVX2,AVX512F,AVX512CD,AVX512_SKX,AVX512_CLX,AVX512_CNL,AVX512_ICL\n",
      "    not found = \n",
      "None\n"
     ]
    }
   ],
   "source": [
    "print(np.show_config())"
   ]
  },
  {
   "cell_type": "code",
   "execution_count": 4,
   "id": "50255754",
   "metadata": {},
   "outputs": [
    {
     "name": "stdout",
     "output_type": "stream",
     "text": [
      "1.24.3\n"
     ]
    }
   ],
   "source": [
    "print(np.__version__)"
   ]
  },
  {
   "cell_type": "code",
   "execution_count": 5,
   "id": "76e13d63",
   "metadata": {},
   "outputs": [],
   "source": [
    "#3. Generate a 2x3x5 3-dimensional array with random values. Assign the array to variable \"a\"\n",
    "# Challenge: there are at least three easy ways that use numpy to generate random arrays. How many ways can you find?"
   ]
  },
  {
   "cell_type": "code",
   "execution_count": 6,
   "id": "81a536bb",
   "metadata": {},
   "outputs": [
    {
     "data": {
      "text/plain": [
       "array([[[0.86355938, 0.50559907, 0.30198745, 0.91201688, 0.74839479],\n",
       "        [0.43733819, 0.13709702, 0.31421135, 0.60872869, 0.00133414],\n",
       "        [0.84918382, 0.74386904, 0.94738983, 0.38587703, 0.90959302]],\n",
       "\n",
       "       [[0.63910151, 0.02918544, 0.62066099, 0.04708619, 0.08498402],\n",
       "        [0.15902306, 0.76679513, 0.89379196, 0.61908043, 0.1073497 ],\n",
       "        [0.79411648, 0.51584772, 0.12285225, 0.48057491, 0.40409735]]])"
      ]
     },
     "execution_count": 6,
     "metadata": {},
     "output_type": "execute_result"
    }
   ],
   "source": [
    "a=np.random.random((2,3,5))\n",
    "\n",
    "a\n"
   ]
  },
  {
   "cell_type": "code",
   "execution_count": 7,
   "id": "3523e69b",
   "metadata": {},
   "outputs": [
    {
     "name": "stdout",
     "output_type": "stream",
     "text": [
      "[[[0.86355938 0.50559907 0.30198745 0.91201688 0.74839479]\n",
      "  [0.43733819 0.13709702 0.31421135 0.60872869 0.00133414]\n",
      "  [0.84918382 0.74386904 0.94738983 0.38587703 0.90959302]]\n",
      "\n",
      " [[0.63910151 0.02918544 0.62066099 0.04708619 0.08498402]\n",
      "  [0.15902306 0.76679513 0.89379196 0.61908043 0.1073497 ]\n",
      "  [0.79411648 0.51584772 0.12285225 0.48057491 0.40409735]]]\n"
     ]
    }
   ],
   "source": [
    "#4. Print a.\n",
    "\n",
    "print(a)"
   ]
  },
  {
   "cell_type": "code",
   "execution_count": 8,
   "id": "9bdd7951",
   "metadata": {},
   "outputs": [],
   "source": [
    "#5. Create a 5x2x3 3-dimensional array with all values equaling 1.\n",
    "#Assign the array to variable \"b\""
   ]
  },
  {
   "cell_type": "code",
   "execution_count": 9,
   "id": "5d557ada",
   "metadata": {},
   "outputs": [
    {
     "name": "stdout",
     "output_type": "stream",
     "text": [
      "[[[1. 1. 1.]\n",
      "  [1. 1. 1.]]\n",
      "\n",
      " [[1. 1. 1.]\n",
      "  [1. 1. 1.]]\n",
      "\n",
      " [[1. 1. 1.]\n",
      "  [1. 1. 1.]]\n",
      "\n",
      " [[1. 1. 1.]\n",
      "  [1. 1. 1.]]\n",
      "\n",
      " [[1. 1. 1.]\n",
      "  [1. 1. 1.]]]\n"
     ]
    }
   ],
   "source": [
    "b=np.ones((5,2,3))\n",
    "\n",
    "print(b)"
   ]
  },
  {
   "cell_type": "code",
   "execution_count": 10,
   "id": "59b5ecfc",
   "metadata": {},
   "outputs": [],
   "source": [
    " # Do a and b have the same size? How do you prove that in Python code?"
   ]
  },
  {
   "cell_type": "code",
   "execution_count": 11,
   "id": "c4089fba",
   "metadata": {},
   "outputs": [
    {
     "data": {
      "text/plain": [
       "30"
      ]
     },
     "execution_count": 11,
     "metadata": {},
     "output_type": "execute_result"
    }
   ],
   "source": [
    "medida_a=np.size(a)\n",
    "medida_a"
   ]
  },
  {
   "cell_type": "code",
   "execution_count": 12,
   "id": "d5c3692d",
   "metadata": {},
   "outputs": [
    {
     "data": {
      "text/plain": [
       "30"
      ]
     },
     "execution_count": 12,
     "metadata": {},
     "output_type": "execute_result"
    }
   ],
   "source": [
    "medida_b= np.size(b)\n",
    "medida_b"
   ]
  },
  {
   "cell_type": "code",
   "execution_count": 13,
   "id": "cb87363c",
   "metadata": {},
   "outputs": [],
   "source": [
    "#8. Are you able to add a and b? Why or why not?"
   ]
  },
  {
   "cell_type": "markdown",
   "id": "b2bf0518",
   "metadata": {},
   "source": [
    "suma= np.add(a,b)\n"
   ]
  },
  {
   "cell_type": "code",
   "execution_count": 15,
   "id": "37413643",
   "metadata": {},
   "outputs": [
    {
     "data": {
      "text/plain": [
       "array([[[1.86355938, 1.50559907, 1.30198745, 1.91201688, 1.74839479],\n",
       "        [1.43733819, 1.13709702, 1.31421135, 1.60872869, 1.00133414],\n",
       "        [1.84918382, 1.74386904, 1.94738983, 1.38587703, 1.90959302]],\n",
       "\n",
       "       [[1.63910151, 1.02918544, 1.62066099, 1.04708619, 1.08498402],\n",
       "        [1.15902306, 1.76679513, 1.89379196, 1.61908043, 1.1073497 ],\n",
       "        [1.79411648, 1.51584772, 1.12285225, 1.48057491, 1.40409735]]])"
      ]
     },
     "execution_count": 15,
     "metadata": {},
     "output_type": "execute_result"
    }
   ],
   "source": [
    "\n",
    "#9. Transpose b so that it has the same structure of a (i.e. become a 2x3x5 array). Assign the transposed array to varialbe \"c\".\n",
    "\n",
    "\n",
    "import numpy as np\n",
    "\n",
    "c = np.transpose(b, (1, 2, 0))\n",
    "\n",
    "d= np.add(a,c)\n",
    "d\n",
    "\n",
    "\n",
    "\n"
   ]
  },
  {
   "cell_type": "code",
   "execution_count": 16,
   "id": "ec5383fc",
   "metadata": {},
   "outputs": [],
   "source": [
    "#7. Do a and b have the same size? How do you prove that in Python code?"
   ]
  },
  {
   "cell_type": "code",
   "execution_count": 17,
   "id": "332bfb79",
   "metadata": {},
   "outputs": [
    {
     "data": {
      "text/plain": [
       "True"
      ]
     },
     "execution_count": 17,
     "metadata": {},
     "output_type": "execute_result"
    }
   ],
   "source": [
    "a.size==b.size"
   ]
  },
  {
   "cell_type": "code",
   "execution_count": 18,
   "id": "e4ede0e7",
   "metadata": {},
   "outputs": [],
   "source": [
    "\n",
    "#11. Print a and d. Notice the difference and relation of the two array in terms of the values? Explain."
   ]
  },
  {
   "cell_type": "code",
   "execution_count": 19,
   "id": "52b60c86",
   "metadata": {},
   "outputs": [
    {
     "name": "stdout",
     "output_type": "stream",
     "text": [
      "[[[0.86355938 0.50559907 0.30198745 0.91201688 0.74839479]\n",
      "  [0.43733819 0.13709702 0.31421135 0.60872869 0.00133414]\n",
      "  [0.84918382 0.74386904 0.94738983 0.38587703 0.90959302]]\n",
      "\n",
      " [[0.63910151 0.02918544 0.62066099 0.04708619 0.08498402]\n",
      "  [0.15902306 0.76679513 0.89379196 0.61908043 0.1073497 ]\n",
      "  [0.79411648 0.51584772 0.12285225 0.48057491 0.40409735]]]\n"
     ]
    }
   ],
   "source": [
    "print(a)"
   ]
  },
  {
   "cell_type": "code",
   "execution_count": 20,
   "id": "14e18511",
   "metadata": {},
   "outputs": [
    {
     "name": "stdout",
     "output_type": "stream",
     "text": [
      "[[[1.86355938 1.50559907 1.30198745 1.91201688 1.74839479]\n",
      "  [1.43733819 1.13709702 1.31421135 1.60872869 1.00133414]\n",
      "  [1.84918382 1.74386904 1.94738983 1.38587703 1.90959302]]\n",
      "\n",
      " [[1.63910151 1.02918544 1.62066099 1.04708619 1.08498402]\n",
      "  [1.15902306 1.76679513 1.89379196 1.61908043 1.1073497 ]\n",
      "  [1.79411648 1.51584772 1.12285225 1.48057491 1.40409735]]]\n"
     ]
    }
   ],
   "source": [
    "print(d)"
   ]
  },
  {
   "cell_type": "code",
   "execution_count": 21,
   "id": "6d5a7627",
   "metadata": {},
   "outputs": [
    {
     "data": {
      "text/plain": [
       "array([[[0.86355938, 0.50559907, 0.30198745, 0.91201688, 0.74839479],\n",
       "        [0.43733819, 0.13709702, 0.31421135, 0.60872869, 0.00133414],\n",
       "        [0.84918382, 0.74386904, 0.94738983, 0.38587703, 0.90959302]],\n",
       "\n",
       "       [[0.63910151, 0.02918544, 0.62066099, 0.04708619, 0.08498402],\n",
       "        [0.15902306, 0.76679513, 0.89379196, 0.61908043, 0.1073497 ],\n",
       "        [0.79411648, 0.51584772, 0.12285225, 0.48057491, 0.40409735]]])"
      ]
     },
     "execution_count": 21,
     "metadata": {},
     "output_type": "execute_result"
    }
   ],
   "source": [
    "a=d-1\n",
    "\n",
    "a"
   ]
  },
  {
   "cell_type": "code",
   "execution_count": 22,
   "id": "c56741de",
   "metadata": {},
   "outputs": [],
   "source": [
    "# Multiply a and c. Assign the result to e."
   ]
  },
  {
   "cell_type": "code",
   "execution_count": 23,
   "id": "9cccd7e4",
   "metadata": {},
   "outputs": [
    {
     "data": {
      "text/plain": [
       "array([[[0.86355938, 0.50559907, 0.30198745, 0.91201688, 0.74839479],\n",
       "        [0.43733819, 0.13709702, 0.31421135, 0.60872869, 0.00133414],\n",
       "        [0.84918382, 0.74386904, 0.94738983, 0.38587703, 0.90959302]],\n",
       "\n",
       "       [[0.63910151, 0.02918544, 0.62066099, 0.04708619, 0.08498402],\n",
       "        [0.15902306, 0.76679513, 0.89379196, 0.61908043, 0.1073497 ],\n",
       "        [0.79411648, 0.51584772, 0.12285225, 0.48057491, 0.40409735]]])"
      ]
     },
     "execution_count": 23,
     "metadata": {},
     "output_type": "execute_result"
    }
   ],
   "source": [
    "e=np.multiply(a,c)\n",
    "\n",
    "e"
   ]
  },
  {
   "cell_type": "code",
   "execution_count": 24,
   "id": "21035e05",
   "metadata": {},
   "outputs": [],
   "source": [
    "#13. Does e equal to a? Why or why not?"
   ]
  },
  {
   "cell_type": "code",
   "execution_count": 25,
   "id": "dec52c26",
   "metadata": {},
   "outputs": [
    {
     "data": {
      "text/plain": [
       "array([[[ True,  True,  True,  True,  True],\n",
       "        [ True,  True,  True,  True,  True],\n",
       "        [ True,  True,  True,  True,  True]],\n",
       "\n",
       "       [[ True,  True,  True,  True,  True],\n",
       "        [ True,  True,  True,  True,  True],\n",
       "        [ True,  True,  True,  True,  True]]])"
      ]
     },
     "execution_count": 25,
     "metadata": {},
     "output_type": "execute_result"
    }
   ],
   "source": [
    "e==a #como b es una matriz de unos, e es a*c, a==e porque b=1\n",
    "\n",
    "e==a*c\n"
   ]
  },
  {
   "cell_type": "code",
   "execution_count": 26,
   "id": "51719f7b",
   "metadata": {},
   "outputs": [],
   "source": [
    "#14. Identify the max, min, and mean values in d. Assign those values to variables \"d_max\", \"d_min\", and \"d_mean\"\n",
    "\n"
   ]
  },
  {
   "cell_type": "code",
   "execution_count": 27,
   "id": "b5998379",
   "metadata": {},
   "outputs": [
    {
     "data": {
      "text/plain": [
       "1.947389828136843"
      ]
     },
     "execution_count": 27,
     "metadata": {},
     "output_type": "execute_result"
    }
   ],
   "source": [
    "d_max= np.max(d)\n",
    "\n",
    "d_max"
   ]
  },
  {
   "cell_type": "code",
   "execution_count": 28,
   "id": "e26be28a",
   "metadata": {},
   "outputs": [
    {
     "data": {
      "text/plain": [
       "1.001334140596714"
      ]
     },
     "execution_count": 28,
     "metadata": {},
     "output_type": "execute_result"
    }
   ],
   "source": [
    "d_min= np.min(d)\n",
    "\n",
    "d_min"
   ]
  },
  {
   "cell_type": "code",
   "execution_count": 29,
   "id": "c25b201b",
   "metadata": {},
   "outputs": [
    {
     "data": {
      "text/plain": [
       "1.4983575618660345"
      ]
     },
     "execution_count": 29,
     "metadata": {},
     "output_type": "execute_result"
    }
   ],
   "source": [
    "d_mean= np.mean(d)\n",
    "\n",
    "d_mean"
   ]
  },
  {
   "cell_type": "code",
   "execution_count": 30,
   "id": "a6c5c30c",
   "metadata": {},
   "outputs": [],
   "source": [
    "#15. Now we want to label the values in d. First create an empty array \"f\" with the same shape (i.e. 2x3x5) as d using `np.empty`.\n"
   ]
  },
  {
   "cell_type": "code",
   "execution_count": 31,
   "id": "f8eea295",
   "metadata": {},
   "outputs": [
    {
     "data": {
      "text/plain": [
       "array([[[0.86355938, 0.50559907, 0.30198745, 0.91201688, 0.74839479],\n",
       "        [0.43733819, 0.13709702, 0.31421135, 0.60872869, 0.00133414],\n",
       "        [0.84918382, 0.74386904, 0.94738983, 0.38587703, 0.90959302]],\n",
       "\n",
       "       [[0.63910151, 0.02918544, 0.62066099, 0.04708619, 0.08498402],\n",
       "        [0.15902306, 0.76679513, 0.89379196, 0.61908043, 0.1073497 ],\n",
       "        [0.79411648, 0.51584772, 0.12285225, 0.48057491, 0.40409735]]])"
      ]
     },
     "execution_count": 31,
     "metadata": {},
     "output_type": "execute_result"
    }
   ],
   "source": [
    "f=np.empty_like(d)\n",
    "\n",
    "f"
   ]
  },
  {
   "cell_type": "code",
   "execution_count": null,
   "id": "ed258205",
   "metadata": {},
   "outputs": [],
   "source": []
  },
  {
   "cell_type": "code",
   "execution_count": 32,
   "id": "22a98401",
   "metadata": {},
   "outputs": [],
   "source": [
    "#16. Populate the values in f. For each value in d, if it's larger than d_min but smaller than d_mean, assign 25 to the corresponding value in f.\n",
    "#If a value in d is larger than d_mean but smaller than d_max, assign 75 to the corresponding value in f.\n",
    "#If a value equals to d_mean, assign 50 to the corresponding value in f.\n",
    "#Assign 0 to the corresponding value(s) in f for d_min in d.\n",
    "#Assign 100 to the corresponding value(s) in f for d_max in d.\n",
    "#In the end, f should have only the following values: 0, 25, 50, 75, and 100.\n",
    "#Note: you don't have to use Numpy in this question."
   ]
  },
  {
   "cell_type": "code",
   "execution_count": 41,
   "id": "c8f6e22a",
   "metadata": {},
   "outputs": [
    {
     "data": {
      "text/plain": [
       "array([[[ 75.,  75.,  25.,  75.,  75.],\n",
       "        [ 25.,  25.,  25.,  75.,   0.],\n",
       "        [ 75.,  75., 100.,  25.,  75.]],\n",
       "\n",
       "       [[ 75.,  25.,  75.,  25.,  25.],\n",
       "        [ 25.,  75.,  75.,  75.,  25.],\n",
       "        [ 75.,  75.,  25.,  25.,  25.]]])"
      ]
     },
     "execution_count": 41,
     "metadata": {},
     "output_type": "execute_result"
    }
   ],
   "source": [
    "for capa in range(d.shape[0]):\n",
    "    for fila in range(d.shape[1]):\n",
    "        for columna in range(d.shape[2]):\n",
    "            if d[capa][fila][columna] > d_min and  d[capa][fila][columna]<d_mean:\n",
    "                f[capa][fila][columna] = 25\n",
    "            elif d[capa][fila][columna] < d_max and d[capa][fila][columna]>d_mean:\n",
    "                f[capa][fila][columna] = 75\n",
    "            elif d[capa][fila][columna] == d_mean:\n",
    "                f[capa][fila][columna] = 50\n",
    "            elif d[capa][fila][columna] == d_min:\n",
    "                f[capa][fila][columna] = 0\n",
    "            elif d[capa][fila][columna] == d_max:\n",
    "                f[capa][fila][columna] = 100\n",
    "f"
   ]
  },
  {
   "cell_type": "code",
   "execution_count": 51,
   "id": "3604ff09",
   "metadata": {},
   "outputs": [
    {
     "data": {
      "text/plain": [
       "array([[[25., 25., 75., 25., 25.],\n",
       "        [75., 75., 75., 25., 75.],\n",
       "        [25., 25., 25., 75., 25.]],\n",
       "\n",
       "       [[25., 75., 25., 75., 75.],\n",
       "        [75., 25., 25., 25., 75.],\n",
       "        [25., 25., 75., 75., 75.]]])"
      ]
     },
     "execution_count": 51,
     "metadata": {},
     "output_type": "execute_result"
    }
   ],
   "source": [
    "z= f.astype(str)\n",
    "z=np.empty_like(f)\n",
    "\n",
    "\n",
    "z"
   ]
  },
  {
   "cell_type": "code",
   "execution_count": 59,
   "id": "a93913b9",
   "metadata": {},
   "outputs": [
    {
     "data": {
      "text/plain": [
       "array([[[25., 25., 75., 25., 25.],\n",
       "        [75., 75., 75., 25., 75.],\n",
       "        [25., 25., 25., 75., 25.]],\n",
       "\n",
       "       [[25., 75., 25., 75., 75.],\n",
       "        [75., 25., 25., 25., 75.],\n",
       "        [25., 25., 75., 75., 75.]]])"
      ]
     },
     "execution_count": 59,
     "metadata": {},
     "output_type": "execute_result"
    }
   ],
   "source": [
    "for capa in range(f.shape[0]):\n",
    "    for fila in range(f.shape[1]):\n",
    "        for columna in range(f.shape[2]):\n",
    "            if f[capa][fila][columna]=='0':\n",
    "                z[capa][fila][columna] = 'A'\n",
    "            elif f[capa][fila][columna]=='25':\n",
    "                z[capa][fila][columna] = 'B'\n",
    "            elif f[capa][fila][columna]=='50':\n",
    "                z[capa][fila][columna] = 'C'\n",
    "            elif f[capa][fila][columna] == '75':\n",
    "                z[capa][fila][columna] = 'D'\n",
    "            elif f[capa][fila][columna] == '100':\n",
    "                z[capa][fila][columna] ='E'\n",
    "z"
   ]
  },
  {
   "cell_type": "code",
   "execution_count": null,
   "id": "c8573a2c",
   "metadata": {},
   "outputs": [],
   "source": []
  },
  {
   "cell_type": "code",
   "execution_count": null,
   "id": "e7b5e4e2",
   "metadata": {},
   "outputs": [],
   "source": []
  }
 ],
 "metadata": {
  "kernelspec": {
   "display_name": "Nicolas",
   "language": "python",
   "name": "nicolas"
  },
  "language_info": {
   "codemirror_mode": {
    "name": "ipython",
    "version": 3
   },
   "file_extension": ".py",
   "mimetype": "text/x-python",
   "name": "python",
   "nbconvert_exporter": "python",
   "pygments_lexer": "ipython3",
   "version": "3.11.3"
  }
 },
 "nbformat": 4,
 "nbformat_minor": 5
}
