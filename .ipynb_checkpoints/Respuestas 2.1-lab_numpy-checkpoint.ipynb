{
 "cells": [
  {
   "cell_type": "markdown",
   "id": "08197428",
   "metadata": {},
   "source": [
    "# 1. Import the NUMPY package under the name np.\n"
   ]
  },
  {
   "cell_type": "code",
   "execution_count": 3,
   "id": "aa6214ae",
   "metadata": {},
   "outputs": [
    {
     "name": "stdout",
     "output_type": "stream",
     "text": [
      "Requirement already satisfied: numpy in c:\\users\\delbr\\anaconda3\\lib\\site-packages (1.23.5)\n",
      "Note: you may need to restart the kernel to use updated packages.\n"
     ]
    }
   ],
   "source": [
    "%pip install numpy"
   ]
  },
  {
   "cell_type": "code",
   "execution_count": 4,
   "id": "96d37552",
   "metadata": {},
   "outputs": [],
   "source": [
    "import numpy as np"
   ]
  },
  {
   "cell_type": "markdown",
   "id": "35e5981e",
   "metadata": {},
   "source": [
    "# 2. Print the NUMPY version and the configuration.\n"
   ]
  },
  {
   "cell_type": "code",
   "execution_count": 5,
   "id": "c30cca2e",
   "metadata": {},
   "outputs": [
    {
     "name": "stdout",
     "output_type": "stream",
     "text": [
      "1.23.5\n"
     ]
    }
   ],
   "source": [
    "print(np.__version__)"
   ]
  },
  {
   "cell_type": "code",
   "execution_count": 6,
   "id": "9088aa68",
   "metadata": {},
   "outputs": [
    {
     "name": "stdout",
     "output_type": "stream",
     "text": [
      "blas_armpl_info:\n",
      "  NOT AVAILABLE\n",
      "blas_mkl_info:\n",
      "    libraries = ['mkl_rt']\n",
      "    library_dirs = ['C:/Users/delbr/anaconda3\\\\Library\\\\lib']\n",
      "    define_macros = [('SCIPY_MKL_H', None), ('HAVE_CBLAS', None)]\n",
      "    include_dirs = ['C:/Users/delbr/anaconda3\\\\Library\\\\include']\n",
      "blas_opt_info:\n",
      "    libraries = ['mkl_rt']\n",
      "    library_dirs = ['C:/Users/delbr/anaconda3\\\\Library\\\\lib']\n",
      "    define_macros = [('SCIPY_MKL_H', None), ('HAVE_CBLAS', None)]\n",
      "    include_dirs = ['C:/Users/delbr/anaconda3\\\\Library\\\\include']\n",
      "lapack_armpl_info:\n",
      "  NOT AVAILABLE\n",
      "lapack_mkl_info:\n",
      "    libraries = ['mkl_rt']\n",
      "    library_dirs = ['C:/Users/delbr/anaconda3\\\\Library\\\\lib']\n",
      "    define_macros = [('SCIPY_MKL_H', None), ('HAVE_CBLAS', None)]\n",
      "    include_dirs = ['C:/Users/delbr/anaconda3\\\\Library\\\\include']\n",
      "lapack_opt_info:\n",
      "    libraries = ['mkl_rt']\n",
      "    library_dirs = ['C:/Users/delbr/anaconda3\\\\Library\\\\lib']\n",
      "    define_macros = [('SCIPY_MKL_H', None), ('HAVE_CBLAS', None)]\n",
      "    include_dirs = ['C:/Users/delbr/anaconda3\\\\Library\\\\include']\n",
      "Supported SIMD extensions in this NumPy install:\n",
      "    baseline = SSE,SSE2,SSE3\n",
      "    found = SSSE3,SSE41,POPCNT,SSE42,AVX,F16C,FMA3,AVX2,AVX512F,AVX512CD,AVX512_SKX,AVX512_CLX,AVX512_CNL\n",
      "    not found = \n",
      "None\n"
     ]
    }
   ],
   "source": [
    "print(np.show_config())"
   ]
  },
  {
   "cell_type": "markdown",
   "id": "f1ab4206",
   "metadata": {},
   "source": [
    "# 3. Generate a 2x3x5 3-dimensional array with random values. Assign the array to variable \"a\"\n",
    "# Challenge: there are at least three easy ways that use numpy to generate random arrays. How many ways can you find?"
   ]
  },
  {
   "cell_type": "code",
   "execution_count": 7,
   "id": "0449d0d3",
   "metadata": {},
   "outputs": [
    {
     "data": {
      "text/plain": [
       "array([[[0.74514993, 0.427319  , 0.47611622, 0.38954366, 0.93634499],\n",
       "        [0.78762134, 0.91554643, 0.34432159, 0.19592147, 0.95753299],\n",
       "        [0.67609051, 0.7458727 , 0.19659947, 0.52651356, 0.93511799]],\n",
       "\n",
       "       [[0.16736093, 0.63134799, 0.94800586, 0.68780459, 0.06871524],\n",
       "        [0.8209413 , 0.87471903, 0.48969366, 0.69334177, 0.71061334],\n",
       "        [0.44048837, 0.84511278, 0.89939524, 0.23491413, 0.92740389]]])"
      ]
     },
     "execution_count": 7,
     "metadata": {},
     "output_type": "execute_result"
    }
   ],
   "source": [
    "a= np.random.random((2,3,5))\n",
    "\n",
    "a"
   ]
  },
  {
   "cell_type": "markdown",
   "id": "d21cccee",
   "metadata": {},
   "source": [
    "# 4. Print a"
   ]
  },
  {
   "cell_type": "code",
   "execution_count": 8,
   "id": "bacde47c",
   "metadata": {},
   "outputs": [
    {
     "name": "stdout",
     "output_type": "stream",
     "text": [
      "[[[0.74514993 0.427319   0.47611622 0.38954366 0.93634499]\n",
      "  [0.78762134 0.91554643 0.34432159 0.19592147 0.95753299]\n",
      "  [0.67609051 0.7458727  0.19659947 0.52651356 0.93511799]]\n",
      "\n",
      " [[0.16736093 0.63134799 0.94800586 0.68780459 0.06871524]\n",
      "  [0.8209413  0.87471903 0.48969366 0.69334177 0.71061334]\n",
      "  [0.44048837 0.84511278 0.89939524 0.23491413 0.92740389]]]\n"
     ]
    }
   ],
   "source": [
    "print(a)"
   ]
  },
  {
   "cell_type": "markdown",
   "id": "4e56bb01",
   "metadata": {},
   "source": [
    "# 5. Create a 5x2x3 3-dimensional array with all values equaling 1. Assign the array to variable \"b\""
   ]
  },
  {
   "cell_type": "code",
   "execution_count": 9,
   "id": "ea7f5e78",
   "metadata": {},
   "outputs": [],
   "source": [
    "b = np.ones((5,2,3))"
   ]
  },
  {
   "cell_type": "markdown",
   "id": "2a42eb00",
   "metadata": {},
   "source": [
    "# 6. Print b"
   ]
  },
  {
   "cell_type": "code",
   "execution_count": 10,
   "id": "1b4e1840",
   "metadata": {},
   "outputs": [
    {
     "name": "stdout",
     "output_type": "stream",
     "text": [
      "[[[1. 1. 1.]\n",
      "  [1. 1. 1.]]\n",
      "\n",
      " [[1. 1. 1.]\n",
      "  [1. 1. 1.]]\n",
      "\n",
      " [[1. 1. 1.]\n",
      "  [1. 1. 1.]]\n",
      "\n",
      " [[1. 1. 1.]\n",
      "  [1. 1. 1.]]\n",
      "\n",
      " [[1. 1. 1.]\n",
      "  [1. 1. 1.]]]\n"
     ]
    }
   ],
   "source": [
    "print(b)"
   ]
  },
  {
   "cell_type": "markdown",
   "id": "304ef0c9",
   "metadata": {},
   "source": [
    "# 7. Do a and b have the same size? How do you prove that in Python code?"
   ]
  },
  {
   "cell_type": "code",
   "execution_count": 11,
   "id": "326a567f",
   "metadata": {},
   "outputs": [
    {
     "data": {
      "text/plain": [
       "30"
      ]
     },
     "execution_count": 11,
     "metadata": {},
     "output_type": "execute_result"
    }
   ],
   "source": [
    "a.size"
   ]
  },
  {
   "cell_type": "code",
   "execution_count": 12,
   "id": "535c4254",
   "metadata": {},
   "outputs": [
    {
     "data": {
      "text/plain": [
       "30"
      ]
     },
     "execution_count": 12,
     "metadata": {},
     "output_type": "execute_result"
    }
   ],
   "source": [
    "b.size"
   ]
  },
  {
   "cell_type": "code",
   "execution_count": 13,
   "id": "d9628cdf",
   "metadata": {},
   "outputs": [
    {
     "data": {
      "text/plain": [
       "True"
      ]
     },
     "execution_count": 13,
     "metadata": {},
     "output_type": "execute_result"
    }
   ],
   "source": [
    "a.size == b.size"
   ]
  },
  {
   "cell_type": "markdown",
   "id": "98429e75",
   "metadata": {},
   "source": [
    "# 8. Are you able to add a and b? Why or why not?"
   ]
  },
  {
   "cell_type": "code",
   "execution_count": 14,
   "id": "dcdc2e79",
   "metadata": {},
   "outputs": [
    {
     "ename": "ValueError",
     "evalue": "operands could not be broadcast together with shapes (2,3,5) (5,2,3) ",
     "output_type": "error",
     "traceback": [
      "\u001b[1;31m---------------------------------------------------------------------------\u001b[0m",
      "\u001b[1;31mValueError\u001b[0m                                Traceback (most recent call last)",
      "Cell \u001b[1;32mIn[14], line 1\u001b[0m\n\u001b[1;32m----> 1\u001b[0m \u001b[43ma\u001b[49m\u001b[43m \u001b[49m\u001b[38;5;241;43m+\u001b[39;49m\u001b[43m \u001b[49m\u001b[43mb\u001b[49m\n",
      "\u001b[1;31mValueError\u001b[0m: operands could not be broadcast together with shapes (2,3,5) (5,2,3) "
     ]
    }
   ],
   "source": [
    "a + b # no ya que tienen diferente forma"
   ]
  },
  {
   "cell_type": "markdown",
   "id": "a6012e7b",
   "metadata": {},
   "source": [
    "# 9. Transpose b so that it has the same structure of a (i.e. become a 2x3x5 array). Assign the transposed array to varialbe \"c\"."
   ]
  },
  {
   "cell_type": "code",
   "execution_count": 15,
   "id": "cde7b358",
   "metadata": {},
   "outputs": [
    {
     "data": {
      "text/plain": [
       "array([[[1., 1., 1., 1., 1.],\n",
       "        [1., 1., 1., 1., 1.],\n",
       "        [1., 1., 1., 1., 1.]],\n",
       "\n",
       "       [[1., 1., 1., 1., 1.],\n",
       "        [1., 1., 1., 1., 1.],\n",
       "        [1., 1., 1., 1., 1.]]])"
      ]
     },
     "execution_count": 15,
     "metadata": {},
     "output_type": "execute_result"
    }
   ],
   "source": [
    "c = np.transpose(b,(1, 2, 0))\n",
    "\n",
    "c"
   ]
  },
  {
   "cell_type": "markdown",
   "id": "61ff9036",
   "metadata": {},
   "source": [
    "# 10. Try to add a and c. Now it should work. Assign the sum to varialbe \"d\". But why does it work now?"
   ]
  },
  {
   "cell_type": "code",
   "execution_count": 16,
   "id": "91b8d81e",
   "metadata": {},
   "outputs": [],
   "source": [
    "d = a + c"
   ]
  },
  {
   "cell_type": "code",
   "execution_count": 17,
   "id": "35f84b8d",
   "metadata": {},
   "outputs": [
    {
     "name": "stdout",
     "output_type": "stream",
     "text": [
      "[[[1.74514993 1.427319   1.47611622 1.38954366 1.93634499]\n",
      "  [1.78762134 1.91554643 1.34432159 1.19592147 1.95753299]\n",
      "  [1.67609051 1.7458727  1.19659947 1.52651356 1.93511799]]\n",
      "\n",
      " [[1.16736093 1.63134799 1.94800586 1.68780459 1.06871524]\n",
      "  [1.8209413  1.87471903 1.48969366 1.69334177 1.71061334]\n",
      "  [1.44048837 1.84511278 1.89939524 1.23491413 1.92740389]]]\n"
     ]
    }
   ],
   "source": [
    "print(d) # funciona por que las matrices tienen las mismas dimensiones"
   ]
  },
  {
   "cell_type": "markdown",
   "id": "bb0af601",
   "metadata": {},
   "source": [
    "# 11. Print a and d. Notice the difference and relation of the two array in terms of the values? Explain."
   ]
  },
  {
   "cell_type": "code",
   "execution_count": 18,
   "id": "29a8b6c6",
   "metadata": {},
   "outputs": [
    {
     "data": {
      "text/plain": [
       "array([[[0.74514993, 0.427319  , 0.47611622, 0.38954366, 0.93634499],\n",
       "        [0.78762134, 0.91554643, 0.34432159, 0.19592147, 0.95753299],\n",
       "        [0.67609051, 0.7458727 , 0.19659947, 0.52651356, 0.93511799]],\n",
       "\n",
       "       [[0.16736093, 0.63134799, 0.94800586, 0.68780459, 0.06871524],\n",
       "        [0.8209413 , 0.87471903, 0.48969366, 0.69334177, 0.71061334],\n",
       "        [0.44048837, 0.84511278, 0.89939524, 0.23491413, 0.92740389]]])"
      ]
     },
     "execution_count": 18,
     "metadata": {},
     "output_type": "execute_result"
    }
   ],
   "source": [
    "a"
   ]
  },
  {
   "cell_type": "code",
   "execution_count": 19,
   "id": "dcf82ea5",
   "metadata": {},
   "outputs": [
    {
     "data": {
      "text/plain": [
       "array([[[1.74514993, 1.427319  , 1.47611622, 1.38954366, 1.93634499],\n",
       "        [1.78762134, 1.91554643, 1.34432159, 1.19592147, 1.95753299],\n",
       "        [1.67609051, 1.7458727 , 1.19659947, 1.52651356, 1.93511799]],\n",
       "\n",
       "       [[1.16736093, 1.63134799, 1.94800586, 1.68780459, 1.06871524],\n",
       "        [1.8209413 , 1.87471903, 1.48969366, 1.69334177, 1.71061334],\n",
       "        [1.44048837, 1.84511278, 1.89939524, 1.23491413, 1.92740389]]])"
      ]
     },
     "execution_count": 19,
     "metadata": {},
     "output_type": "execute_result"
    }
   ],
   "source": [
    "d"
   ]
  },
  {
   "cell_type": "markdown",
   "id": "15647752",
   "metadata": {},
   "source": [
    "### Los elementos de la matriz d son los de la matriz a + 1"
   ]
  },
  {
   "cell_type": "markdown",
   "id": "6987f6fd",
   "metadata": {},
   "source": [
    "# 12. Multiply a and c. Assign the result to e."
   ]
  },
  {
   "cell_type": "code",
   "execution_count": 20,
   "id": "dcb29a63",
   "metadata": {},
   "outputs": [
    {
     "data": {
      "text/plain": [
       "array([[[0.74514993, 0.427319  , 0.47611622, 0.38954366, 0.93634499],\n",
       "        [0.78762134, 0.91554643, 0.34432159, 0.19592147, 0.95753299],\n",
       "        [0.67609051, 0.7458727 , 0.19659947, 0.52651356, 0.93511799]],\n",
       "\n",
       "       [[0.16736093, 0.63134799, 0.94800586, 0.68780459, 0.06871524],\n",
       "        [0.8209413 , 0.87471903, 0.48969366, 0.69334177, 0.71061334],\n",
       "        [0.44048837, 0.84511278, 0.89939524, 0.23491413, 0.92740389]]])"
      ]
     },
     "execution_count": 20,
     "metadata": {},
     "output_type": "execute_result"
    }
   ],
   "source": [
    "e = a * c\n",
    "\n",
    "e"
   ]
  },
  {
   "cell_type": "markdown",
   "id": "48dfa575",
   "metadata": {},
   "source": [
    "# 13. Does e equal to a? Why or why not?"
   ]
  },
  {
   "cell_type": "code",
   "execution_count": 21,
   "id": "c0d1e377",
   "metadata": {},
   "outputs": [
    {
     "data": {
      "text/plain": [
       "array([[[ True,  True,  True,  True,  True],\n",
       "        [ True,  True,  True,  True,  True],\n",
       "        [ True,  True,  True,  True,  True]],\n",
       "\n",
       "       [[ True,  True,  True,  True,  True],\n",
       "        [ True,  True,  True,  True,  True],\n",
       "        [ True,  True,  True,  True,  True]]])"
      ]
     },
     "execution_count": 21,
     "metadata": {},
     "output_type": "execute_result"
    }
   ],
   "source": [
    "e == a #True por que c es una matriz donde todos los valores = 1\n",
    "        # por lo que multiplicar a * c = a * 1"
   ]
  },
  {
   "cell_type": "markdown",
   "id": "a4a36e0e",
   "metadata": {},
   "source": [
    "# 14. Identify the max, min, and mean values in d. Assign those values to variables \"d_max\", \"d_min\", and \"d_mean\""
   ]
  },
  {
   "cell_type": "code",
   "execution_count": 22,
   "id": "d9dda613",
   "metadata": {},
   "outputs": [],
   "source": [
    "d_max = np.max(d)"
   ]
  },
  {
   "cell_type": "code",
   "execution_count": 23,
   "id": "86cea5b2",
   "metadata": {},
   "outputs": [
    {
     "data": {
      "text/plain": [
       "1.9575329876297403"
      ]
     },
     "execution_count": 23,
     "metadata": {},
     "output_type": "execute_result"
    }
   ],
   "source": [
    "d_max"
   ]
  },
  {
   "cell_type": "code",
   "execution_count": 24,
   "id": "d511c3c1",
   "metadata": {},
   "outputs": [
    {
     "data": {
      "text/plain": [
       "1.068715238152389"
      ]
     },
     "execution_count": 24,
     "metadata": {},
     "output_type": "execute_result"
    }
   ],
   "source": [
    "d_min = np.min(d)\n",
    "d_min"
   ]
  },
  {
   "cell_type": "code",
   "execution_count": 25,
   "id": "df8bf4e8",
   "metadata": {},
   "outputs": [
    {
     "data": {
      "text/plain": [
       "1.623182332425378"
      ]
     },
     "execution_count": 25,
     "metadata": {},
     "output_type": "execute_result"
    }
   ],
   "source": [
    "d_mean = np.mean(d)\n",
    "d_mean"
   ]
  },
  {
   "cell_type": "markdown",
   "id": "8a9a17f2",
   "metadata": {},
   "source": [
    "# 15. Now we want to label the values in d. First create an empty array \"f\" with the same shape (i.e. 2x3x5) as d using `np.empty`."
   ]
  },
  {
   "cell_type": "code",
   "execution_count": 26,
   "id": "7b86b49b",
   "metadata": {},
   "outputs": [
    {
     "data": {
      "text/plain": [
       "array([[[0.74514993, 0.427319  , 0.47611622, 0.38954366, 0.93634499],\n",
       "        [0.78762134, 0.91554643, 0.34432159, 0.19592147, 0.95753299],\n",
       "        [0.67609051, 0.7458727 , 0.19659947, 0.52651356, 0.93511799]],\n",
       "\n",
       "       [[0.16736093, 0.63134799, 0.94800586, 0.68780459, 0.06871524],\n",
       "        [0.8209413 , 0.87471903, 0.48969366, 0.69334177, 0.71061334],\n",
       "        [0.44048837, 0.84511278, 0.89939524, 0.23491413, 0.92740389]]])"
      ]
     },
     "execution_count": 26,
     "metadata": {},
     "output_type": "execute_result"
    }
   ],
   "source": [
    "f = np.empty_like(d)\n",
    "f"
   ]
  },
  {
   "cell_type": "code",
   "execution_count": 27,
   "id": "a1afa3de",
   "metadata": {},
   "outputs": [
    {
     "data": {
      "text/plain": [
       "\"\\n#16. Populate the values in f. For each value in d, if it's larger than d_min but smaller than d_mean, assign 25 to the corresponding value in f.\\nIf a value in d is larger than d_mean but smaller than d_max, assign 75 to the corresponding value in f.\\nIf a value equals to d_mean, assign 50 to the corresponding value in f.\\nAssign 0 to the corresponding value(s) in f for d_min in d.\\nAssign 100 to the corresponding value(s) in f for d_max in d.\\nIn the end, f should have only the following values: 0, 25, 50, 75, and 100.\\nNote: you don't have to use Numpy in this question.\\n\""
      ]
     },
     "execution_count": 27,
     "metadata": {},
     "output_type": "execute_result"
    }
   ],
   "source": [
    "\"\"\"\n",
    "#16. Populate the values in f. For each value in d, if it's larger than d_min but smaller than d_mean, assign 25 to the corresponding value in f.\n",
    "If a value in d is larger than d_mean but smaller than d_max, assign 75 to the corresponding value in f.\n",
    "If a value equals to d_mean, assign 50 to the corresponding value in f.\n",
    "Assign 0 to the corresponding value(s) in f for d_min in d.\n",
    "Assign 100 to the corresponding value(s) in f for d_max in d.\n",
    "In the end, f should have only the following values: 0, 25, 50, 75, and 100.\n",
    "Note: you don't have to use Numpy in this question.\n",
    "\"\"\""
   ]
  },
  {
   "cell_type": "code",
   "execution_count": 28,
   "id": "499522c5",
   "metadata": {},
   "outputs": [
    {
     "data": {
      "text/plain": [
       "array([[[ 75.,  25.,  25.,  25.,  75.],\n",
       "        [ 75.,  75.,  25.,  25., 100.],\n",
       "        [ 75.,  75.,  25.,  25.,  75.]],\n",
       "\n",
       "       [[ 25.,  75.,  75.,  75.,   0.],\n",
       "        [ 75.,  75.,  25.,  75.,  75.],\n",
       "        [ 25.,  75.,  75.,  25.,  75.]]])"
      ]
     },
     "execution_count": 28,
     "metadata": {},
     "output_type": "execute_result"
    }
   ],
   "source": [
    "for i in range(d.shape[0]):\n",
    "    \n",
    "    for j in range(d.shape[1]):\n",
    "        \n",
    "        for k in range(d.shape[2]):\n",
    "            \n",
    "            if d[i,j,k] > d_min and d[i, j, k] < d_mean:\n",
    "                f[i,j,k] = 25\n",
    "                \n",
    "            elif d[i,j,k] > d_mean and d[i, j, k] < d_max:\n",
    "                f[i,j,k] = 75\n",
    "                \n",
    "            elif d[i,j,k] == d_mean:\n",
    "                f[i,j,k] = 50\n",
    "                \n",
    "            elif d[i,j,k] == d_min:\n",
    "                f[i,j,k] = 0\n",
    "                \n",
    "            elif d[i,j,k] == d_max:\n",
    "                f[i,j,k] = 100\n",
    "                \n",
    "f                "
   ]
  },
  {
   "cell_type": "markdown",
   "id": "712b5470",
   "metadata": {},
   "source": [
    "# 17. Print d and f. Do you have your expected f?\n"
   ]
  },
  {
   "cell_type": "code",
   "execution_count": 29,
   "id": "d1e8633b",
   "metadata": {},
   "outputs": [
    {
     "data": {
      "text/plain": [
       "array([[[1.74514993, 1.427319  , 1.47611622, 1.38954366, 1.93634499],\n",
       "        [1.78762134, 1.91554643, 1.34432159, 1.19592147, 1.95753299],\n",
       "        [1.67609051, 1.7458727 , 1.19659947, 1.52651356, 1.93511799]],\n",
       "\n",
       "       [[1.16736093, 1.63134799, 1.94800586, 1.68780459, 1.06871524],\n",
       "        [1.8209413 , 1.87471903, 1.48969366, 1.69334177, 1.71061334],\n",
       "        [1.44048837, 1.84511278, 1.89939524, 1.23491413, 1.92740389]]])"
      ]
     },
     "execution_count": 29,
     "metadata": {},
     "output_type": "execute_result"
    }
   ],
   "source": [
    "d"
   ]
  },
  {
   "cell_type": "code",
   "execution_count": 30,
   "id": "23c105b6",
   "metadata": {},
   "outputs": [
    {
     "data": {
      "text/plain": [
       "array([[[ 75.,  25.,  25.,  25.,  75.],\n",
       "        [ 75.,  75.,  25.,  25., 100.],\n",
       "        [ 75.,  75.,  25.,  25.,  75.]],\n",
       "\n",
       "       [[ 25.,  75.,  75.,  75.,   0.],\n",
       "        [ 75.,  75.,  25.,  75.,  75.],\n",
       "        [ 25.,  75.,  75.,  25.,  75.]]])"
      ]
     },
     "execution_count": 30,
     "metadata": {},
     "output_type": "execute_result"
    }
   ],
   "source": [
    "f"
   ]
  },
  {
   "cell_type": "markdown",
   "id": "10e4fa89",
   "metadata": {},
   "source": [
    "# #18. Bonus question: instead of using numbers (i.e. 0, 25, 50, 75, and 100), how to use string values \n",
    "(\"A\", \"B\", \"C\", \"D\", and \"E\") to label the array elements? You are expecting the result to be:\n",
    "array([[[ 'D',  'D',  'D',  'B',  'D'],\n",
    "        [ 'D',  'D',  'B',  'B',  'B'],\n",
    "        [ 'D',  'B',  'D',  'D',  'D']],\n",
    "\n",
    "       [[ 'B',  'B',  'B',  'B',  'E'],\n",
    "        [ 'D',  'D',  'D',  'D',  'D'],\n",
    "        [ 'B',  'D',   'A',  'D', 'D']]])\n",
    "Again, you don't need Numpy in this question.\n",
    "\"\"\""
   ]
  },
  {
   "cell_type": "code",
   "execution_count": null,
   "id": "c24b1620",
   "metadata": {},
   "outputs": [],
   "source": [
    "g = np.empty_like(d)\n",
    "\n",
    "\n",
    "\n",
    "for i in range(d.shape[0]):\n",
    "    \n",
    "    for j in range(d.shape[1]):\n",
    "        \n",
    "        for k in range(d.shape[2]):\n",
    "            \n",
    "            if d[i,j,k] > d_min and d[i, j, k] < d_mean:\n",
    "                g[i,j,k] = 'B'\n",
    "                \n",
    "            elif d[i,j,k] > d_mean and d[i, j, k] < d_max:\n",
    "                g[i,j,k] = 'D'\n",
    "                \n",
    "            elif d[i,j,k] == d_mean:\n",
    "                g[i,j,k] = 'C'\n",
    "                \n",
    "            elif d[i,j,k] == d_min:\n",
    "                g[i,j,k] = 'A'\n",
    "                \n",
    "            elif d[i,j,k] == d_max:\n",
    "                g[i,j,k] = 'E'\n",
    "                \n",
    "\n",
    "g               "
   ]
  }
 ],
 "metadata": {
  "kernelspec": {
   "display_name": "Python 3 (ipykernel)",
   "language": "python",
   "name": "python3"
  },
  "language_info": {
   "codemirror_mode": {
    "name": "ipython",
    "version": 3
   },
   "file_extension": ".py",
   "mimetype": "text/x-python",
   "name": "python",
   "nbconvert_exporter": "python",
   "pygments_lexer": "ipython3",
   "version": "3.10.9"
  }
 },
 "nbformat": 4,
 "nbformat_minor": 5
}
