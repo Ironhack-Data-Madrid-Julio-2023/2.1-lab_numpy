{
 "cells": [
  {
   "cell_type": "code",
   "execution_count": 1,
   "id": "1c9d81f1",
   "metadata": {},
   "outputs": [],
   "source": [
    "#1. Import the NUMPY package under the name np.\n",
    "\n",
    "import numpy as np"
   ]
  },
  {
   "cell_type": "code",
   "execution_count": 2,
   "id": "752ce081",
   "metadata": {},
   "outputs": [
    {
     "name": "stdout",
     "output_type": "stream",
     "text": [
      "1.23.5\n"
     ]
    }
   ],
   "source": [
    "#2. Print the NUMPY version and the configuration.\n",
    "print(np.version.version)"
   ]
  },
  {
   "cell_type": "code",
   "execution_count": null,
   "id": "e514097b",
   "metadata": {},
   "outputs": [],
   "source": [
    "#3. Generate a 2x3x5 3-dimensional array with random values. Assign the array to variable \"a\"\n",
    "# Challenge: there are at least three easy ways that use numpy to generate random arrays. How many ways can you find?\n",
    "#3. print a\n",
    "\n",
    "'''\n",
    "3 ways: using np.random.random, np.random.rand or np.random.randint\n",
    "''''''"
   ]
  },
  {
   "cell_type": "code",
   "execution_count": 12,
   "id": "ea25ee00",
   "metadata": {},
   "outputs": [],
   "source": [
    "a = np.random.random((2, 3, 5))"
   ]
  },
  {
   "cell_type": "code",
   "execution_count": 14,
   "id": "23cc90fd",
   "metadata": {},
   "outputs": [
    {
     "name": "stdout",
     "output_type": "stream",
     "text": [
      "[[[0.5772456  0.20023356 0.6653412  0.94582991 0.70852848]\n",
      "  [0.71923726 0.39907429 0.7483599  0.49107025 0.31299289]\n",
      "  [0.15422283 0.4157734  0.73540287 0.35185291 0.28878163]]\n",
      "\n",
      " [[0.21606519 0.70524666 0.9662316  0.16981042 0.77166459]\n",
      "  [0.81980578 0.23637959 0.55219397 0.95327106 0.18188054]\n",
      "  [0.02508766 0.30616373 0.36463332 0.79198006 0.17900556]]]\n"
     ]
    }
   ],
   "source": [
    "print(a)"
   ]
  },
  {
   "cell_type": "code",
   "execution_count": 6,
   "id": "0f14f593",
   "metadata": {},
   "outputs": [
    {
     "ename": "NameError",
     "evalue": "name 'random' is not defined",
     "output_type": "error",
     "traceback": [
      "\u001b[1;31m---------------------------------------------------------------------------\u001b[0m",
      "\u001b[1;31mNameError\u001b[0m                                 Traceback (most recent call last)",
      "Cell \u001b[1;32mIn[6], line 1\u001b[0m\n\u001b[1;32m----> 1\u001b[0m a \u001b[38;5;241m=\u001b[39m [[[random\u001b[38;5;241m.\u001b[39mrandom() \u001b[38;5;28;01mfor\u001b[39;00m _ \u001b[38;5;129;01min\u001b[39;00m \u001b[38;5;28mrange\u001b[39m(\u001b[38;5;241m5\u001b[39m)] \u001b[38;5;28;01mfor\u001b[39;00m _ \u001b[38;5;129;01min\u001b[39;00m \u001b[38;5;28mrange\u001b[39m(\u001b[38;5;241m3\u001b[39m)] \u001b[38;5;28;01mfor\u001b[39;00m _ \u001b[38;5;129;01min\u001b[39;00m \u001b[38;5;28mrange\u001b[39m(\u001b[38;5;241m2\u001b[39m)]\n\u001b[0;32m      3\u001b[0m \u001b[38;5;28mprint\u001b[39m(a)\n",
      "Cell \u001b[1;32mIn[6], line 1\u001b[0m, in \u001b[0;36m<listcomp>\u001b[1;34m(.0)\u001b[0m\n\u001b[1;32m----> 1\u001b[0m a \u001b[38;5;241m=\u001b[39m [[[random\u001b[38;5;241m.\u001b[39mrandom() \u001b[38;5;28;01mfor\u001b[39;00m _ \u001b[38;5;129;01min\u001b[39;00m \u001b[38;5;28mrange\u001b[39m(\u001b[38;5;241m5\u001b[39m)] \u001b[38;5;28;01mfor\u001b[39;00m _ \u001b[38;5;129;01min\u001b[39;00m \u001b[38;5;28mrange\u001b[39m(\u001b[38;5;241m3\u001b[39m)] \u001b[38;5;28;01mfor\u001b[39;00m _ \u001b[38;5;129;01min\u001b[39;00m \u001b[38;5;28mrange\u001b[39m(\u001b[38;5;241m2\u001b[39m)]\n\u001b[0;32m      3\u001b[0m \u001b[38;5;28mprint\u001b[39m(a)\n",
      "Cell \u001b[1;32mIn[6], line 1\u001b[0m, in \u001b[0;36m<listcomp>\u001b[1;34m(.0)\u001b[0m\n\u001b[1;32m----> 1\u001b[0m a \u001b[38;5;241m=\u001b[39m [[[random\u001b[38;5;241m.\u001b[39mrandom() \u001b[38;5;28;01mfor\u001b[39;00m _ \u001b[38;5;129;01min\u001b[39;00m \u001b[38;5;28mrange\u001b[39m(\u001b[38;5;241m5\u001b[39m)] \u001b[38;5;28;01mfor\u001b[39;00m _ \u001b[38;5;129;01min\u001b[39;00m \u001b[38;5;28mrange\u001b[39m(\u001b[38;5;241m3\u001b[39m)] \u001b[38;5;28;01mfor\u001b[39;00m _ \u001b[38;5;129;01min\u001b[39;00m \u001b[38;5;28mrange\u001b[39m(\u001b[38;5;241m2\u001b[39m)]\n\u001b[0;32m      3\u001b[0m \u001b[38;5;28mprint\u001b[39m(a)\n",
      "Cell \u001b[1;32mIn[6], line 1\u001b[0m, in \u001b[0;36m<listcomp>\u001b[1;34m(.0)\u001b[0m\n\u001b[1;32m----> 1\u001b[0m a \u001b[38;5;241m=\u001b[39m [[[\u001b[43mrandom\u001b[49m\u001b[38;5;241m.\u001b[39mrandom() \u001b[38;5;28;01mfor\u001b[39;00m _ \u001b[38;5;129;01min\u001b[39;00m \u001b[38;5;28mrange\u001b[39m(\u001b[38;5;241m5\u001b[39m)] \u001b[38;5;28;01mfor\u001b[39;00m _ \u001b[38;5;129;01min\u001b[39;00m \u001b[38;5;28mrange\u001b[39m(\u001b[38;5;241m3\u001b[39m)] \u001b[38;5;28;01mfor\u001b[39;00m _ \u001b[38;5;129;01min\u001b[39;00m \u001b[38;5;28mrange\u001b[39m(\u001b[38;5;241m2\u001b[39m)]\n\u001b[0;32m      3\u001b[0m \u001b[38;5;28mprint\u001b[39m(a)\n",
      "\u001b[1;31mNameError\u001b[0m: name 'random' is not defined"
     ]
    }
   ],
   "source": [
    "a = [[[random.random() for _ in range(5)] for _ in range(3)] for _ in range(2)]\n",
    "\n",
    "print(a)"
   ]
  },
  {
   "cell_type": "code",
   "execution_count": 7,
   "id": "3f7231f1",
   "metadata": {},
   "outputs": [],
   "source": [
    "import random\n",
    "\n",
    "a = [[[random.random() for _ in range(5)] for _ in range(3)] for _ in range(2)]"
   ]
  },
  {
   "cell_type": "code",
   "execution_count": 8,
   "id": "dae926b4",
   "metadata": {},
   "outputs": [
    {
     "data": {
      "text/plain": [
       "[[[0.3248316382941928,\n",
       "   0.4482169982498073,\n",
       "   0.7401821105169928,\n",
       "   0.03732870661449206,\n",
       "   0.3295054388043862],\n",
       "  [0.37859246581672834,\n",
       "   0.009131179009482682,\n",
       "   0.20544980157152515,\n",
       "   0.9191769448610765,\n",
       "   0.2804279364895691],\n",
       "  [0.6648629917710193,\n",
       "   0.9753003215741111,\n",
       "   0.6628761544817475,\n",
       "   0.7895823303050499,\n",
       "   0.17314867187840566]],\n",
       " [[0.695164556144374,\n",
       "   0.43363273332901897,\n",
       "   0.258671826000459,\n",
       "   0.4567163099222725,\n",
       "   0.6238146759041221],\n",
       "  [0.09693671399256898,\n",
       "   0.640499744270402,\n",
       "   0.5528454586239099,\n",
       "   0.8425830129195369,\n",
       "   0.029019990059022338],\n",
       "  [0.8456006044860981,\n",
       "   0.015121268844961677,\n",
       "   0.4807758443398318,\n",
       "   0.5767198057250296,\n",
       "   0.9123122185944466]]]"
      ]
     },
     "execution_count": 8,
     "metadata": {},
     "output_type": "execute_result"
    }
   ],
   "source": [
    "a"
   ]
  },
  {
   "cell_type": "code",
   "execution_count": 9,
   "id": "cbd40b86",
   "metadata": {},
   "outputs": [
    {
     "data": {
      "text/plain": [
       "array([[[0.31246078, 0.18092144, 0.76874429, 0.92791979, 0.63274048],\n",
       "        [0.03065519, 0.8839407 , 0.83591889, 0.43412378, 0.59734945],\n",
       "        [0.03827372, 0.28645149, 0.53429951, 0.91394214, 0.11729827]],\n",
       "\n",
       "       [[0.32210136, 0.82246308, 0.23720156, 0.16543573, 0.55827898],\n",
       "        [0.3035851 , 0.45516142, 0.50147683, 0.30661755, 0.08195933],\n",
       "        [0.2620728 , 0.58532094, 0.55452207, 0.5332889 , 0.58372258]]])"
      ]
     },
     "execution_count": 9,
     "metadata": {},
     "output_type": "execute_result"
    }
   ],
   "source": [
    "a = np.random.rand(2, 3, 5)\n",
    "\n",
    "a"
   ]
  },
  {
   "cell_type": "code",
   "execution_count": 10,
   "id": "cbcb9ef6",
   "metadata": {},
   "outputs": [
    {
     "data": {
      "text/plain": [
       "array([[[1, 0, 5, 5, 9],\n",
       "        [0, 7, 6, 8, 0],\n",
       "        [6, 3, 2, 5, 9]],\n",
       "\n",
       "       [[8, 4, 7, 9, 9],\n",
       "        [2, 6, 1, 7, 0],\n",
       "        [2, 4, 1, 7, 9]]])"
      ]
     },
     "execution_count": 10,
     "metadata": {},
     "output_type": "execute_result"
    }
   ],
   "source": [
    "a = np.random.randint(0, 10, (2, 3, 5))\n",
    "\n",
    "a"
   ]
  },
  {
   "cell_type": "code",
   "execution_count": 13,
   "id": "7f85d5c3",
   "metadata": {},
   "outputs": [
    {
     "name": "stdout",
     "output_type": "stream",
     "text": [
      "[[[0.5772456  0.20023356 0.6653412  0.94582991 0.70852848]\n",
      "  [0.71923726 0.39907429 0.7483599  0.49107025 0.31299289]\n",
      "  [0.15422283 0.4157734  0.73540287 0.35185291 0.28878163]]\n",
      "\n",
      " [[0.21606519 0.70524666 0.9662316  0.16981042 0.77166459]\n",
      "  [0.81980578 0.23637959 0.55219397 0.95327106 0.18188054]\n",
      "  [0.02508766 0.30616373 0.36463332 0.79198006 0.17900556]]]\n"
     ]
    }
   ],
   "source": [
    "print(a)"
   ]
  },
  {
   "cell_type": "code",
   "execution_count": null,
   "id": "bcced2b6",
   "metadata": {},
   "outputs": [],
   "source": [
    "#5. Create a 5x2x3 3-dimensional array with all values equaling 1.\n",
    "#Assign the array to variable \"b\"\n",
    "\n",
    "#6. Print b"
   ]
  },
  {
   "cell_type": "code",
   "execution_count": 15,
   "id": "317f0dce",
   "metadata": {},
   "outputs": [
    {
     "name": "stdout",
     "output_type": "stream",
     "text": [
      "[[[1. 1. 1.]\n",
      "  [1. 1. 1.]]\n",
      "\n",
      " [[1. 1. 1.]\n",
      "  [1. 1. 1.]]\n",
      "\n",
      " [[1. 1. 1.]\n",
      "  [1. 1. 1.]]\n",
      "\n",
      " [[1. 1. 1.]\n",
      "  [1. 1. 1.]]\n",
      "\n",
      " [[1. 1. 1.]\n",
      "  [1. 1. 1.]]]\n"
     ]
    }
   ],
   "source": [
    "b = np.ones((5, 2, 3))\n",
    "\n",
    "print(b)"
   ]
  },
  {
   "cell_type": "code",
   "execution_count": 16,
   "id": "ad26a0d9",
   "metadata": {},
   "outputs": [
    {
     "data": {
      "text/plain": [
       "array([[[1., 1., 1.],\n",
       "        [1., 1., 1.]],\n",
       "\n",
       "       [[1., 1., 1.],\n",
       "        [1., 1., 1.]],\n",
       "\n",
       "       [[1., 1., 1.],\n",
       "        [1., 1., 1.]],\n",
       "\n",
       "       [[1., 1., 1.],\n",
       "        [1., 1., 1.]],\n",
       "\n",
       "       [[1., 1., 1.],\n",
       "        [1., 1., 1.]]])"
      ]
     },
     "execution_count": 16,
     "metadata": {},
     "output_type": "execute_result"
    }
   ],
   "source": [
    "b"
   ]
  },
  {
   "cell_type": "code",
   "execution_count": null,
   "id": "986bba83",
   "metadata": {},
   "outputs": [],
   "source": [
    "#7. Do a and b have the same size? How do you prove that in Python code?"
   ]
  },
  {
   "cell_type": "code",
   "execution_count": 18,
   "id": "d6994845",
   "metadata": {},
   "outputs": [
    {
     "data": {
      "text/plain": [
       "30"
      ]
     },
     "execution_count": 18,
     "metadata": {},
     "output_type": "execute_result"
    }
   ],
   "source": [
    " # use .size\n",
    "    \n",
    "a.size"
   ]
  },
  {
   "cell_type": "code",
   "execution_count": 19,
   "id": "9854f17e",
   "metadata": {},
   "outputs": [
    {
     "data": {
      "text/plain": [
       "30"
      ]
     },
     "execution_count": 19,
     "metadata": {},
     "output_type": "execute_result"
    }
   ],
   "source": [
    "b.size"
   ]
  },
  {
   "cell_type": "code",
   "execution_count": null,
   "id": "9052ee0e",
   "metadata": {},
   "outputs": [],
   "source": [
    "Both have same size. "
   ]
  },
  {
   "cell_type": "code",
   "execution_count": null,
   "id": "a2e47c03",
   "metadata": {},
   "outputs": [],
   "source": [
    "#8. Are you able to add a and b? Why or why not? \n",
    "'''No, since they are not compatible (shape is diferent). It needs to be transposed 'b' into 'a' shape.\n",
    "''"
   ]
  },
  {
   "cell_type": "code",
   "execution_count": null,
   "id": "f63c0482",
   "metadata": {},
   "outputs": [],
   "source": [
    "#9. Transpose b so that it has the same structure of a (i.e. become a 2x3x5 array). Assign the transposed array to varialbe \"c\"."
   ]
  },
  {
   "cell_type": "code",
   "execution_count": 22,
   "id": "fca6be30",
   "metadata": {},
   "outputs": [
    {
     "data": {
      "text/plain": [
       "array([[[1., 1., 1., 1., 1.],\n",
       "        [1., 1., 1., 1., 1.],\n",
       "        [1., 1., 1., 1., 1.]],\n",
       "\n",
       "       [[1., 1., 1., 1., 1.],\n",
       "        [1., 1., 1., 1., 1.],\n",
       "        [1., 1., 1., 1., 1.]]])"
      ]
     },
     "execution_count": 22,
     "metadata": {},
     "output_type": "execute_result"
    }
   ],
   "source": [
    "b = np.transpose(b, (1, 2, 0))\n",
    "b"
   ]
  },
  {
   "cell_type": "code",
   "execution_count": 26,
   "id": "29eb5dc9",
   "metadata": {},
   "outputs": [],
   "source": [
    "c = a + b"
   ]
  },
  {
   "cell_type": "code",
   "execution_count": null,
   "id": "0600b26e",
   "metadata": {},
   "outputs": [],
   "source": [
    "#10. Try to add a and c. Now it should work. Assign the sum to varialbe \"d\". But why does it work now?"
   ]
  },
  {
   "cell_type": "code",
   "execution_count": 27,
   "id": "df7bc0b5",
   "metadata": {},
   "outputs": [
    {
     "data": {
      "text/plain": [
       "array([[[2.1544912 , 1.40046713, 2.33068239, 2.89165982, 2.41705697],\n",
       "        [2.43847451, 1.79814857, 2.4967198 , 1.98214049, 1.62598577],\n",
       "        [1.30844566, 1.8315468 , 2.47080574, 1.70370583, 1.57756326]],\n",
       "\n",
       "       [[1.43213038, 2.41049333, 2.93246319, 1.33962085, 2.54332918],\n",
       "        [2.63961156, 1.47275918, 2.10438795, 2.90654212, 1.36376107],\n",
       "        [1.05017531, 1.61232746, 1.72926664, 2.58396013, 1.35801112]]])"
      ]
     },
     "execution_count": 27,
     "metadata": {},
     "output_type": "execute_result"
    }
   ],
   "source": [
    "d = a + c\n",
    "d\n",
    "# they are compatible because theirs' shapes are the same."
   ]
  },
  {
   "cell_type": "code",
   "execution_count": null,
   "id": "3aa1385b",
   "metadata": {},
   "outputs": [],
   "source": [
    "#11. Print a and d. Notice the difference and relation of the two array in terms of the values? Explain.\n",
    "'''''\n",
    "d= a + a + b \n",
    "d = 2*a + b"
   ]
  },
  {
   "cell_type": "code",
   "execution_count": 29,
   "id": "50c5333e",
   "metadata": {},
   "outputs": [
    {
     "data": {
      "text/plain": [
       "array([[[0.5772456 , 0.20023356, 0.6653412 , 0.94582991, 0.70852848],\n",
       "        [0.71923726, 0.39907429, 0.7483599 , 0.49107025, 0.31299289],\n",
       "        [0.15422283, 0.4157734 , 0.73540287, 0.35185291, 0.28878163]],\n",
       "\n",
       "       [[0.21606519, 0.70524666, 0.9662316 , 0.16981042, 0.77166459],\n",
       "        [0.81980578, 0.23637959, 0.55219397, 0.95327106, 0.18188054],\n",
       "        [0.02508766, 0.30616373, 0.36463332, 0.79198006, 0.17900556]]])"
      ]
     },
     "execution_count": 29,
     "metadata": {},
     "output_type": "execute_result"
    }
   ],
   "source": [
    "a"
   ]
  },
  {
   "cell_type": "code",
   "execution_count": 30,
   "id": "293d6884",
   "metadata": {},
   "outputs": [
    {
     "data": {
      "text/plain": [
       "array([[[2.1544912 , 1.40046713, 2.33068239, 2.89165982, 2.41705697],\n",
       "        [2.43847451, 1.79814857, 2.4967198 , 1.98214049, 1.62598577],\n",
       "        [1.30844566, 1.8315468 , 2.47080574, 1.70370583, 1.57756326]],\n",
       "\n",
       "       [[1.43213038, 2.41049333, 2.93246319, 1.33962085, 2.54332918],\n",
       "        [2.63961156, 1.47275918, 2.10438795, 2.90654212, 1.36376107],\n",
       "        [1.05017531, 1.61232746, 1.72926664, 2.58396013, 1.35801112]]])"
      ]
     },
     "execution_count": 30,
     "metadata": {},
     "output_type": "execute_result"
    }
   ],
   "source": [
    "d"
   ]
  },
  {
   "cell_type": "code",
   "execution_count": 31,
   "id": "68b8b99a",
   "metadata": {},
   "outputs": [
    {
     "ename": "NameError",
     "evalue": "name 'values' is not defined",
     "output_type": "error",
     "traceback": [
      "\u001b[1;31m---------------------------------------------------------------------------\u001b[0m",
      "\u001b[1;31mNameError\u001b[0m                                 Traceback (most recent call last)",
      "Cell \u001b[1;32mIn[31], line 1\u001b[0m\n\u001b[1;32m----> 1\u001b[0m \u001b[43mvalues\u001b[49m(a)\n",
      "\u001b[1;31mNameError\u001b[0m: name 'values' is not defined"
     ]
    }
   ],
   "source": [
    "values(a)"
   ]
  },
  {
   "cell_type": "code",
   "execution_count": null,
   "id": "4de6d4cf",
   "metadata": {},
   "outputs": [],
   "source": [
    "#12. Multiply a and c. Assign the result to e."
   ]
  },
  {
   "cell_type": "code",
   "execution_count": 33,
   "id": "5d1f94de",
   "metadata": {},
   "outputs": [],
   "source": [
    "e = np.multiply(a, c)"
   ]
  },
  {
   "cell_type": "code",
   "execution_count": 34,
   "id": "48559de5",
   "metadata": {},
   "outputs": [
    {
     "data": {
      "text/plain": [
       "array([[[0.91045809, 0.24032704, 1.1080201 , 1.84042413, 1.2105411 ],\n",
       "        [1.23653949, 0.55833457, 1.30840244, 0.73222023, 0.41095743],\n",
       "        [0.17800751, 0.58864092, 1.27622026, 0.47565339, 0.37217646]],\n",
       "\n",
       "       [[0.26274935, 1.20261952, 1.8998351 , 0.198646  , 1.36713083],\n",
       "        [1.49188729, 0.2922549 , 0.85711216, 1.86199677, 0.21496107],\n",
       "        [0.02571705, 0.39989996, 0.49759077, 1.41921249, 0.21104855]]])"
      ]
     },
     "execution_count": 34,
     "metadata": {},
     "output_type": "execute_result"
    }
   ],
   "source": [
    "print(e)\n"
   ]
  },
  {
   "cell_type": "code",
   "execution_count": 44,
   "id": "8d44e3fb",
   "metadata": {},
   "outputs": [
    {
     "data": {
      "text/plain": [
       "'\\nThey are not equals, since their corresponding \\nelements don´t have the same values.\\n'"
      ]
     },
     "execution_count": 44,
     "metadata": {},
     "output_type": "execute_result"
    }
   ],
   "source": [
    "#13. Does e equal to a? Why or why not?\n",
    "\"\"\"\n",
    "They are not equals, since their corresponding \n",
    "elements don´t have the same values.\n",
    "\"\"\"\n"
   ]
  },
  {
   "cell_type": "code",
   "execution_count": 35,
   "id": "965276c2",
   "metadata": {},
   "outputs": [
    {
     "data": {
      "text/plain": [
       "array([[[0.5772456 , 0.20023356, 0.6653412 , 0.94582991, 0.70852848],\n",
       "        [0.71923726, 0.39907429, 0.7483599 , 0.49107025, 0.31299289],\n",
       "        [0.15422283, 0.4157734 , 0.73540287, 0.35185291, 0.28878163]],\n",
       "\n",
       "       [[0.21606519, 0.70524666, 0.9662316 , 0.16981042, 0.77166459],\n",
       "        [0.81980578, 0.23637959, 0.55219397, 0.95327106, 0.18188054],\n",
       "        [0.02508766, 0.30616373, 0.36463332, 0.79198006, 0.17900556]]])"
      ]
     },
     "execution_count": 35,
     "metadata": {},
     "output_type": "execute_result"
    }
   ],
   "source": [
    "a"
   ]
  },
  {
   "cell_type": "code",
   "execution_count": 37,
   "id": "38ada9f4",
   "metadata": {},
   "outputs": [
    {
     "data": {
      "text/plain": [
       "(2, 3, 5)"
      ]
     },
     "execution_count": 37,
     "metadata": {},
     "output_type": "execute_result"
    }
   ],
   "source": [
    "a.shape"
   ]
  },
  {
   "cell_type": "code",
   "execution_count": 38,
   "id": "1de28331",
   "metadata": {},
   "outputs": [
    {
     "data": {
      "text/plain": [
       "(2, 3, 5)"
      ]
     },
     "execution_count": 38,
     "metadata": {},
     "output_type": "execute_result"
    }
   ],
   "source": [
    "e.shape"
   ]
  },
  {
   "cell_type": "code",
   "execution_count": 39,
   "id": "b6b47810",
   "metadata": {},
   "outputs": [
    {
     "data": {
      "text/plain": [
       "array([[[1.48770369, 0.44056061, 1.7733613 , 2.78625404, 1.91906958],\n",
       "        [1.95577675, 0.95740886, 2.05676235, 1.22329048, 0.72395032],\n",
       "        [0.33223035, 1.00441432, 2.01162313, 0.8275063 , 0.66095809]],\n",
       "\n",
       "       [[0.47881454, 1.90786619, 2.86606669, 0.36845643, 2.13879541],\n",
       "        [2.31169307, 0.52863449, 1.40930613, 2.81526782, 0.3968416 ],\n",
       "        [0.0508047 , 0.70606368, 0.86222409, 2.21119255, 0.39005411]]])"
      ]
     },
     "execution_count": 39,
     "metadata": {},
     "output_type": "execute_result"
    }
   ],
   "source": [
    "a+e"
   ]
  },
  {
   "cell_type": "code",
   "execution_count": null,
   "id": "52d55a25",
   "metadata": {},
   "outputs": [],
   "source": [
    "#14. Identify the max, min, and mean values in d. Assign those values to variables \"d_max\", \"d_min\", and \"d_mean\""
   ]
  },
  {
   "cell_type": "code",
   "execution_count": 49,
   "id": "db30552b",
   "metadata": {},
   "outputs": [
    {
     "data": {
      "text/plain": [
       "2.932463193357257"
      ]
     },
     "execution_count": 49,
     "metadata": {},
     "output_type": "execute_result"
    }
   ],
   "source": [
    "d_max = d.max()\n",
    "d_max"
   ]
  },
  {
   "cell_type": "code",
   "execution_count": 50,
   "id": "f479dda4",
   "metadata": {},
   "outputs": [
    {
     "data": {
      "text/plain": [
       "1.0501753102570737"
      ]
     },
     "execution_count": 50,
     "metadata": {},
     "output_type": "execute_result"
    }
   ],
   "source": [
    "d_min = d.min()\n",
    "d_min"
   ]
  },
  {
   "cell_type": "code",
   "execution_count": 51,
   "id": "f36b8868",
   "metadata": {},
   "outputs": [
    {
     "data": {
      "text/plain": [
       "1.9968911134694787"
      ]
     },
     "execution_count": 51,
     "metadata": {},
     "output_type": "execute_result"
    }
   ],
   "source": [
    "d_mean = d.mean()\n",
    "d_mean"
   ]
  },
  {
   "cell_type": "code",
   "execution_count": null,
   "id": "1c0d6c41",
   "metadata": {},
   "outputs": [],
   "source": [
    "#15. Now we want to label the values in d. First create an empty array \"f\" with the same shape (i.e. 2x3x5) as d using `np.empty`."
   ]
  },
  {
   "cell_type": "code",
   "execution_count": 52,
   "id": "2796b938",
   "metadata": {},
   "outputs": [
    {
     "data": {
      "text/plain": [
       "array([[[1.48770369, 0.44056061, 1.7733613 , 2.78625404, 1.91906958],\n",
       "        [1.95577675, 0.95740886, 2.05676235, 1.22329048, 0.72395032],\n",
       "        [0.33223035, 1.00441432, 2.01162313, 0.8275063 , 0.66095809]],\n",
       "\n",
       "       [[0.47881454, 1.90786619, 2.86606669, 0.36845643, 2.13879541],\n",
       "        [2.31169307, 0.52863449, 1.40930613, 2.81526782, 0.3968416 ],\n",
       "        [0.0508047 , 0.70606368, 0.86222409, 2.21119255, 0.39005411]]])"
      ]
     },
     "execution_count": 52,
     "metadata": {},
     "output_type": "execute_result"
    }
   ],
   "source": [
    "f = np.empty((2, 3, 5))\n",
    "f"
   ]
  },
  {
   "cell_type": "code",
   "execution_count": null,
   "id": "5733d5ed",
   "metadata": {},
   "outputs": [],
   "source": [
    "#16. Populate the values in f. For each value in d, if it's larger than d_min but smaller than d_mean, assign 25 to the corresponding value in f.\n",
    "#If a value in d is larger than d_mean but smaller than d_max, assign 75 to the corresponding value in f.\n",
    "#If a value equals to d_mean, assign 50 to the corresponding value in f.\n",
    "#Assign 0 to the corresponding value(s) in f for d_min in d.\n",
    "#Assign 100 to the corresponding value(s) in f for d_max in d.\n",
    "#In the end, f should have only the following values: 0, 25, 50, 75, and 100.\n",
    "#Note: you don't have to use Numpy in this question.\n",
    "#17.Print d and f. Do you have your expected f?\n",
    "''\n",
    "\"\"\"\n",
    "Your f should be:\n",
    "array([[[ 75.,  75.,  75.,  25.,  75.],\n",
    "        [ 75.,  75.,  25.,  25.,  25.],\n",
    "        [ 75.,  25.,  75.,  75.,  75.]],\n",
    "\n",
    "       [[ 25.,  25.,  25.,  25., 100.],\n",
    "        [ 75.,  75.,  75.,  75.,  75.],\n",
    "        [ 25.,  75.,   0.,  75.,  75.]]])\n",
    "\"\"\""
   ]
  },
  {
   "cell_type": "code",
   "execution_count": 55,
   "id": "c07675cb",
   "metadata": {},
   "outputs": [
    {
     "name": "stdout",
     "output_type": "stream",
     "text": [
      "[[[ 75.  25.  75.  75.  75.]\n",
      "  [ 75.  25.  75.  25.  25.]\n",
      "  [ 25.  25.  75.  25.  25.]]\n",
      "\n",
      " [[ 25.  75. 100.  25.  75.]\n",
      "  [ 75.  25.  75.  75.  25.]\n",
      "  [  0.  25.  25.  75.  25.]]]\n"
     ]
    }
   ],
   "source": [
    "for i in range(len(d)):\n",
    "    for j in range(len(d[0])):\n",
    "        for k in range(len(d[0][0])):\n",
    "            if d[i][j][k] > d_min and d[i][j][k] < d_mean:\n",
    "                f[i][j][k] = 25\n",
    "            elif d[i][j][k] > d_mean and d[i][j][k] < d_max:\n",
    "                f[i][j][k] = 75\n",
    "            elif d[i][j][k] == d_mean:\n",
    "                f[i][j][k] = 50\n",
    "            elif d[i][j][k] == d_min:\n",
    "                f[i][j][k] = 0\n",
    "            elif d[i][j][k] == d_max:\n",
    "                f[i][j][k] = 100\n",
    "\n",
    "print(f)"
   ]
  },
  {
   "cell_type": "code",
   "execution_count": 54,
   "id": "736cdfd2",
   "metadata": {},
   "outputs": [
    {
     "name": "stdout",
     "output_type": "stream",
     "text": [
      "[[[2.1544912  1.40046713 2.33068239 2.89165982 2.41705697]\n",
      "  [2.43847451 1.79814857 2.4967198  1.98214049 1.62598577]\n",
      "  [1.30844566 1.8315468  2.47080574 1.70370583 1.57756326]]\n",
      "\n",
      " [[1.43213038 2.41049333 2.93246319 1.33962085 2.54332918]\n",
      "  [2.63961156 1.47275918 2.10438795 2.90654212 1.36376107]\n",
      "  [1.05017531 1.61232746 1.72926664 2.58396013 1.35801112]]]\n"
     ]
    }
   ],
   "source": [
    "print(d)"
   ]
  },
  {
   "cell_type": "code",
   "execution_count": 57,
   "id": "ab3d0f27",
   "metadata": {},
   "outputs": [
    {
     "name": "stdout",
     "output_type": "stream",
     "text": [
      "[[[ 25.  25.  25.  25.  25.]\n",
      "  [ 25.  25.  25.  25.  25.]\n",
      "  [ 25.  25.  25.  25.  25.]]\n",
      "\n",
      " [[ 25.  25. 100.  25.  25.]\n",
      "  [ 25.  25.  25.  25.  25.]\n",
      "  [ 25.  25.  25.  25.  25.]]]\n"
     ]
    }
   ],
   "source": [
    "d = ([[[1.85836099, 1.67064465, 1.62576044, 1.40243961, 1.88454931],\n",
    "        [1.75354326, 1.69403643, 1.36729252, 1.61415071, 1.12104981],\n",
    "        [1.72201435, 1.1862918 , 1.87078449, 1.7726778 , 1.88180042]],\n",
    "\n",
    "       [[1.44747908, 1.31673383, 1.02000951, 1.52218947, 1.97066381],\n",
    "        [1.79129243, 1.74983003, 1.96028037, 1.85166831, 1.65450881],\n",
    "        [1.18068344, 1.9587381 , 1.00656599, 1.93402165, 1.73514584]]])\n",
    "\n",
    "f = np.empty((2, 3, 5))\n",
    "\n",
    "for i in range(len(d)):\n",
    "    for j in range(len(d[0])):\n",
    "        for k in range(len(d[0][0])):\n",
    "            if d[i][j][k] > d_min and d[i][j][k] < d_mean:\n",
    "                f[i][j][k] = 25\n",
    "            elif d[i][j][k] > d_mean and d[i][j][k] < d_max:\n",
    "                f[i][j][k] = 75\n",
    "            elif d[i][j][k] == d_mean:\n",
    "                f[i][j][k] = 50\n",
    "            elif d[i][j][k] == d_min:\n",
    "                f[i][j][k] = 0\n",
    "            elif d[i][j][k] == d_max:\n",
    "                f[i][j][k] = 100\n",
    "\n",
    "print(f)"
   ]
  },
  {
   "cell_type": "code",
   "execution_count": null,
   "id": "8e12a213",
   "metadata": {},
   "outputs": [],
   "source": []
  }
 ],
 "metadata": {
  "kernelspec": {
   "display_name": "Python 3 (ipykernel)",
   "language": "python",
   "name": "python3"
  },
  "language_info": {
   "codemirror_mode": {
    "name": "ipython",
    "version": 3
   },
   "file_extension": ".py",
   "mimetype": "text/x-python",
   "name": "python",
   "nbconvert_exporter": "python",
   "pygments_lexer": "ipython3",
   "version": "3.10.9"
  }
 },
 "nbformat": 4,
 "nbformat_minor": 5
}
