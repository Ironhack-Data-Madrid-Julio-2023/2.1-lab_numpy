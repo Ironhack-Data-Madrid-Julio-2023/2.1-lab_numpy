{
 "cells": [
  {
   "cell_type": "code",
   "execution_count": 1,
   "id": "ff5cfea1",
   "metadata": {},
   "outputs": [],
   "source": [
    "#1. Import the NUMPY package under the name np.\n",
    "\n",
    "import numpy as np"
   ]
  },
  {
   "cell_type": "code",
   "execution_count": 2,
   "id": "fc101415",
   "metadata": {},
   "outputs": [
    {
     "name": "stdout",
     "output_type": "stream",
     "text": [
      "1.23.5\n"
     ]
    }
   ],
   "source": [
    "#2. Print the NUMPY version and the configuration.\n",
    "\n",
    "print(np.__version__)"
   ]
  },
  {
   "cell_type": "code",
   "execution_count": 3,
   "id": "86ad56d5",
   "metadata": {},
   "outputs": [],
   "source": [
    "#3. Generate a 2x3x5 3-dimensional array with random values. Assign the array to variable \"a\"\n",
    "# Challenge: there are at least three easy ways that use numpy to generate random arrays. How many ways can you find?\n",
    "\n",
    "a=np.random.random((2,3,5))\n"
   ]
  },
  {
   "cell_type": "code",
   "execution_count": 4,
   "id": "686037b5",
   "metadata": {},
   "outputs": [
    {
     "name": "stdout",
     "output_type": "stream",
     "text": [
      "[[[0.20707152 0.5448613  0.23594725 0.2378372  0.24786299]\n",
      "  [0.35787549 0.54114045 0.450678   0.78578858 0.97677378]\n",
      "  [0.65161979 0.04894568 0.08743399 0.09015997 0.02977111]]\n",
      "\n",
      " [[0.99286691 0.68926516 0.15419644 0.23528629 0.14466154]\n",
      "  [0.92376308 0.81831472 0.60190841 0.81807787 0.86976161]\n",
      "  [0.27716552 0.5353714  0.03991629 0.22172583 0.22537909]]]\n"
     ]
    }
   ],
   "source": [
    "#4. Print a.\n",
    "print(a)"
   ]
  },
  {
   "cell_type": "code",
   "execution_count": 5,
   "id": "7cbce0f1",
   "metadata": {},
   "outputs": [
    {
     "data": {
      "text/plain": [
       "numpy.float64"
      ]
     },
     "execution_count": 5,
     "metadata": {},
     "output_type": "execute_result"
    }
   ],
   "source": [
    "#5. Create a 5x2x3 3-dimensional array with all values equaling 1.\n",
    "#Assign the array to variable \"b\"\n",
    "\n",
    "b=np.random.random((5,2,3))\n",
    "b[:]=1\n",
    "type(b[0,0,0])"
   ]
  },
  {
   "cell_type": "code",
   "execution_count": 6,
   "id": "ed56245e",
   "metadata": {},
   "outputs": [
    {
     "name": "stdout",
     "output_type": "stream",
     "text": [
      "[[[1. 1. 1.]\n",
      "  [1. 1. 1.]]\n",
      "\n",
      " [[1. 1. 1.]\n",
      "  [1. 1. 1.]]\n",
      "\n",
      " [[1. 1. 1.]\n",
      "  [1. 1. 1.]]\n",
      "\n",
      " [[1. 1. 1.]\n",
      "  [1. 1. 1.]]\n",
      "\n",
      " [[1. 1. 1.]\n",
      "  [1. 1. 1.]]]\n"
     ]
    }
   ],
   "source": [
    "#6. Print b.\n",
    "print(b)"
   ]
  },
  {
   "cell_type": "code",
   "execution_count": 7,
   "id": "47d6fbd7",
   "metadata": {},
   "outputs": [
    {
     "data": {
      "text/plain": [
       "True"
      ]
     },
     "execution_count": 7,
     "metadata": {},
     "output_type": "execute_result"
    }
   ],
   "source": [
    "#7. Do a and b have the same size? How do you prove that in Python code?\n",
    "\n",
    "np.size(a)==np.size(b)"
   ]
  },
  {
   "cell_type": "code",
   "execution_count": 8,
   "id": "936e7a9e",
   "metadata": {},
   "outputs": [],
   "source": [
    "#8. Are you able to add a and b? Why or why not?\n",
    "# a+b\n",
    "# No, they should have the same number of rows and columns."
   ]
  },
  {
   "cell_type": "code",
   "execution_count": 9,
   "id": "6fe485cd",
   "metadata": {},
   "outputs": [
    {
     "name": "stdout",
     "output_type": "stream",
     "text": [
      "(2, 3, 5)\n",
      "(5, 2, 3)\n",
      "(2, 3, 5)\n"
     ]
    }
   ],
   "source": [
    "#9. Transpose b so that it has the same structure of a (i.e. become a 2x3x5 array). Assign the transposed array to varialbe \"c\".\n",
    "print(a.shape)\n",
    "print(b.shape)\n",
    "c=b.transpose(1,2,0)\n",
    "print(c.shape)"
   ]
  },
  {
   "cell_type": "code",
   "execution_count": 10,
   "id": "52a0af21",
   "metadata": {},
   "outputs": [
    {
     "name": "stdout",
     "output_type": "stream",
     "text": [
      "[[[1.20707152 1.5448613  1.23594725 1.2378372  1.24786299]\n",
      "  [1.35787549 1.54114045 1.450678   1.78578858 1.97677378]\n",
      "  [1.65161979 1.04894568 1.08743399 1.09015997 1.02977111]]\n",
      "\n",
      " [[1.99286691 1.68926516 1.15419644 1.23528629 1.14466154]\n",
      "  [1.92376308 1.81831472 1.60190841 1.81807787 1.86976161]\n",
      "  [1.27716552 1.5353714  1.03991629 1.22172583 1.22537909]]]\n"
     ]
    }
   ],
   "source": [
    "d=a+c\n",
    "print(d)"
   ]
  },
  {
   "cell_type": "code",
   "execution_count": 11,
   "id": "084603d4",
   "metadata": {},
   "outputs": [
    {
     "name": "stdout",
     "output_type": "stream",
     "text": [
      "[[[0.20707152 0.5448613  0.23594725 0.2378372  0.24786299]\n",
      "  [0.35787549 0.54114045 0.450678   0.78578858 0.97677378]\n",
      "  [0.65161979 0.04894568 0.08743399 0.09015997 0.02977111]]\n",
      "\n",
      " [[0.99286691 0.68926516 0.15419644 0.23528629 0.14466154]\n",
      "  [0.92376308 0.81831472 0.60190841 0.81807787 0.86976161]\n",
      "  [0.27716552 0.5353714  0.03991629 0.22172583 0.22537909]]]\n",
      "[[[1.20707152 1.5448613  1.23594725 1.2378372  1.24786299]\n",
      "  [1.35787549 1.54114045 1.450678   1.78578858 1.97677378]\n",
      "  [1.65161979 1.04894568 1.08743399 1.09015997 1.02977111]]\n",
      "\n",
      " [[1.99286691 1.68926516 1.15419644 1.23528629 1.14466154]\n",
      "  [1.92376308 1.81831472 1.60190841 1.81807787 1.86976161]\n",
      "  [1.27716552 1.5353714  1.03991629 1.22172583 1.22537909]]]\n"
     ]
    }
   ],
   "source": [
    "#11. Print a and d. Notice the difference and relation of the two array in terms of the values? Explain.\n",
    "\n",
    "print(a)\n",
    "print(d)\n",
    "\n",
    "# Now, thay have the same shape. D is A plus C"
   ]
  },
  {
   "cell_type": "code",
   "execution_count": 12,
   "id": "6965c252",
   "metadata": {},
   "outputs": [
    {
     "name": "stdout",
     "output_type": "stream",
     "text": [
      "[[[0.20707152 0.5448613  0.23594725 0.2378372  0.24786299]\n",
      "  [0.35787549 0.54114045 0.450678   0.78578858 0.97677378]\n",
      "  [0.65161979 0.04894568 0.08743399 0.09015997 0.02977111]]\n",
      "\n",
      " [[0.99286691 0.68926516 0.15419644 0.23528629 0.14466154]\n",
      "  [0.92376308 0.81831472 0.60190841 0.81807787 0.86976161]\n",
      "  [0.27716552 0.5353714  0.03991629 0.22172583 0.22537909]]]\n",
      "[[[1. 1. 1. 1. 1.]\n",
      "  [1. 1. 1. 1. 1.]\n",
      "  [1. 1. 1. 1. 1.]]\n",
      "\n",
      " [[1. 1. 1. 1. 1.]\n",
      "  [1. 1. 1. 1. 1.]\n",
      "  [1. 1. 1. 1. 1.]]]\n"
     ]
    }
   ],
   "source": [
    "#12. Multiply a and c. Assign the result to e.\n",
    "print(a)\n",
    "print(c)"
   ]
  },
  {
   "cell_type": "code",
   "execution_count": 13,
   "id": "45157383",
   "metadata": {},
   "outputs": [
    {
     "name": "stdout",
     "output_type": "stream",
     "text": [
      "[[[0.20707152 0.5448613  0.23594725 0.2378372  0.24786299]\n",
      "  [0.35787549 0.54114045 0.450678   0.78578858 0.97677378]\n",
      "  [0.65161979 0.04894568 0.08743399 0.09015997 0.02977111]]\n",
      "\n",
      " [[0.99286691 0.68926516 0.15419644 0.23528629 0.14466154]\n",
      "  [0.92376308 0.81831472 0.60190841 0.81807787 0.86976161]\n",
      "  [0.27716552 0.5353714  0.03991629 0.22172583 0.22537909]]]\n",
      "(2, 3, 5)\n"
     ]
    }
   ],
   "source": [
    "e=np.multiply(a,c)\n",
    "print(e)\n",
    "print(e.shape)"
   ]
  },
  {
   "cell_type": "code",
   "execution_count": 14,
   "id": "d40639f0",
   "metadata": {},
   "outputs": [],
   "source": [
    "#13. Does e equal to a? Why or why not?\n",
    "# Yes, because all the values in array \"a\" are \"1\". "
   ]
  },
  {
   "cell_type": "code",
   "execution_count": 15,
   "id": "5754b29e",
   "metadata": {},
   "outputs": [
    {
     "name": "stdout",
     "output_type": "stream",
     "text": [
      "[[[1.20707152 1.5448613  1.23594725 1.2378372  1.24786299]\n",
      "  [1.35787549 1.54114045 1.450678   1.78578858 1.97677378]\n",
      "  [1.65161979 1.04894568 1.08743399 1.09015997 1.02977111]]\n",
      "\n",
      " [[1.99286691 1.68926516 1.15419644 1.23528629 1.14466154]\n",
      "  [1.92376308 1.81831472 1.60190841 1.81807787 1.86976161]\n",
      "  [1.27716552 1.5353714  1.03991629 1.22172583 1.22537909]]]\n",
      "1.9928669110795474 1.0297711109664611 1.4347142413087117\n"
     ]
    }
   ],
   "source": [
    "#14. Identify the max, min, and mean values in d. Assign those values to variables \"d_max\", \"d_min\", and \"d_mean\"\n",
    "print(d)\n",
    "\n",
    "d_max=d.max()\n",
    "d_min=d.min()\n",
    "d_mean=d.mean()\n",
    "\n",
    "print(d_max,d_min,d_mean)\n"
   ]
  },
  {
   "cell_type": "code",
   "execution_count": 16,
   "id": "42d38920",
   "metadata": {},
   "outputs": [
    {
     "name": "stdout",
     "output_type": "stream",
     "text": [
      "[[[1.20707152 1.5448613  1.23594725 1.2378372  1.24786299]\n",
      "  [1.35787549 1.54114045 1.450678   1.78578858 1.97677378]\n",
      "  [1.65161979 1.04894568 1.08743399 1.09015997 1.02977111]]\n",
      "\n",
      " [[1.99286691 1.68926516 1.15419644 1.23528629 1.14466154]\n",
      "  [1.92376308 1.81831472 1.60190841 1.81807787 1.86976161]\n",
      "  [1.27716552 1.5353714  1.03991629 1.22172583 1.22537909]]]\n"
     ]
    }
   ],
   "source": [
    "#15. Now we want to label the values in d. First create an empty array \"f\" with the same shape (i.e. 2x3x5) as d using `np.empty`.\n",
    "f=np.empty(d.shape)\n",
    "print(f)"
   ]
  },
  {
   "cell_type": "code",
   "execution_count": 17,
   "id": "11a2920b",
   "metadata": {},
   "outputs": [],
   "source": [
    "\"\"\"\n",
    "#16. Populate the values in f. For each value in d, if it's larger than d_min but smaller than d_mean, assign 25 to the corresponding value in f.\n",
    "If a value in d is larger than d_mean but smaller than d_max, assign 75 to the corresponding value in f.\n",
    "If a value equals to d_mean, assign 50 to the corresponding value in f.\n",
    "Assign 0 to the corresponding value(s) in f for d_min in d.\n",
    "Assign 100 to the corresponding value(s) in f for d_max in d.\n",
    "In the end, f should have only the following values: 0, 25, 50, 75, and 100.\n",
    "Note: you don't have to use Numpy in this question.\n",
    "\n",
    "result=np.where((f > d_min) & (f<d_mean), 25, np.where (f>d_mean) & (f<d_max), 75, np.where(f==d_mean), 50, np.where(f==d_min), 0, np.where(f==d_max),100)\n",
    "\n",
    "# result = np.where((f > d_min) & (f < d_mean), 25, np.where((f > d_min) & (f < d_max), 75, np.where(f == d_mean, 50, np.where(f == d_min, 0,np.where(f == d_max, 100, f)))))\n",
    "result\n",
    "\n",
    "\"\"\"\n",
    "\n",
    "\"\"\"result = np.where((f > d_min) & (f < d_mean), 25,\n",
    "                  np.where((f > d_mean) & (f < d_max), 75,\n",
    "                           np.where(f == d_mean, 50,\n",
    "                                    np.where(f == d_min, 0,\n",
    "                                             np.where(f == d_max, 100, f)))))\n",
    "\n",
    "print(result)\"\"\"\n",
    "\n",
    "\"\"\"for e in d:\n",
    "    for sublist in e:\n",
    "        for subsublist in sublist:\n",
    "                if e>d_min and e<d_mean:\n",
    "                    e[i]=25\n",
    "                elif e>d_mean and e<d_max:\n",
    "                    e[i]=75\n",
    "                elif e==d_mean:\n",
    "                    e[i]=50\n",
    "                elif e==d_min:\n",
    "                    e[i]=0\n",
    "                elif e==d_max:\n",
    "                    e[i]=100\"\"\"\n",
    "\n",
    "for i, e in enumerate(f):\n",
    "    for j, sublist in enumerate(e):\n",
    "        for k, subsublist in enumerate(sublist):\n",
    "            if subsublist > d_min and subsublist < d_mean:\n",
    "                f[i][j][k] = 25\n",
    "            elif subsublist > d_mean and subsublist < d_max:\n",
    "                f[i][j][k] = 75\n",
    "            elif subsublist == d_mean:\n",
    "                f[i][j][k] = 50\n",
    "            elif subsublist == d_min:\n",
    "                f[i][j][k] = 0\n",
    "            elif subsublist == d_max:\n",
    "                f[i][j][k] = 100\n"
   ]
  },
  {
   "cell_type": "code",
   "execution_count": 18,
   "id": "adf38253",
   "metadata": {},
   "outputs": [
    {
     "name": "stdout",
     "output_type": "stream",
     "text": [
      "[[[1.20707152 1.5448613  1.23594725 1.2378372  1.24786299]\n",
      "  [1.35787549 1.54114045 1.450678   1.78578858 1.97677378]\n",
      "  [1.65161979 1.04894568 1.08743399 1.09015997 1.02977111]]\n",
      "\n",
      " [[1.99286691 1.68926516 1.15419644 1.23528629 1.14466154]\n",
      "  [1.92376308 1.81831472 1.60190841 1.81807787 1.86976161]\n",
      "  [1.27716552 1.5353714  1.03991629 1.22172583 1.22537909]]]\n",
      "[[[ 25.  75.  25.  25.  25.]\n",
      "  [ 25.  75.  75.  75.  75.]\n",
      "  [ 75.  25.  25.  25.   0.]]\n",
      "\n",
      " [[100.  75.  25.  25.  25.]\n",
      "  [ 75.  75.  75.  75.  75.]\n",
      "  [ 25.  75.  25.  25.  25.]]]\n"
     ]
    }
   ],
   "source": [
    "\"\"\"\n",
    "#17. Print d and f. Do you have your expected f?\n",
    "For instance, if your d is:\n",
    "array([[[1.85836099, 1.67064465, 1.62576044, 1.40243961, 1.88454931],\n",
    "        [1.75354326, 1.69403643, 1.36729252, 1.61415071, 1.12104981],\n",
    "        [1.72201435, 1.1862918 , 1.87078449, 1.7726778 , 1.88180042]],\n",
    "\n",
    "       [[1.44747908, 1.31673383, 1.02000951, 1.52218947, 1.97066381],\n",
    "        [1.79129243, 1.74983003, 1.96028037, 1.85166831, 1.65450881],\n",
    "        [1.18068344, 1.9587381 , 1.00656599, 1.93402165, 1.73514584]]])\n",
    "\n",
    "Your f should be:\n",
    "array([[[ 75.,  75.,  75.,  25.,  75.],\n",
    "        [ 75.,  75.,  25.,  25.,  25.],\n",
    "        [ 75.,  25.,  75.,  75.,  75.]],\n",
    "\n",
    "       [[ 25.,  25.,  25.,  25., 100.],\n",
    "        [ 75.,  75.,  75.,  75.,  75.],\n",
    "        [ 25.,  75.,   0.,  75.,  75.]]])\n",
    "\"\"\"\n",
    " \n",
    "\n",
    "print(d)\n",
    "print(f)"
   ]
  },
  {
   "cell_type": "code",
   "execution_count": 24,
   "id": "f1a2be9f",
   "metadata": {},
   "outputs": [
    {
     "name": "stdout",
     "output_type": "stream",
     "text": [
      "[[['' '' '' '' '']\n",
      "  ['' '' '' '' '']\n",
      "  ['' '' '' '' '']]\n",
      "\n",
      " [['' '' '' '' '']\n",
      "  ['' '' '' '' '']\n",
      "  ['' '' '' '' '']]]\n"
     ]
    },
    {
     "ename": "TypeError",
     "evalue": "'<' not supported between instances of 'numpy.ndarray' and 'numpy.str_'",
     "output_type": "error",
     "traceback": [
      "\u001b[0;31m---------------------------------------------------------------------------\u001b[0m",
      "\u001b[0;31mTypeError\u001b[0m                                 Traceback (most recent call last)",
      "Cell \u001b[0;32mIn[24], line 7\u001b[0m\n\u001b[1;32m      5\u001b[0m \u001b[38;5;28;01mfor\u001b[39;00m j, sublist \u001b[38;5;129;01min\u001b[39;00m \u001b[38;5;28menumerate\u001b[39m(e):\n\u001b[1;32m      6\u001b[0m     \u001b[38;5;28;01mfor\u001b[39;00m k, subsublist \u001b[38;5;129;01min\u001b[39;00m \u001b[38;5;28menumerate\u001b[39m(sublist):\n\u001b[0;32m----> 7\u001b[0m         \u001b[38;5;28;01mif\u001b[39;00m \u001b[43msubsublist\u001b[49m\u001b[43m \u001b[49m\u001b[38;5;241;43m>\u001b[39;49m\u001b[43m \u001b[49m\u001b[43md_min\u001b[49m \u001b[38;5;129;01mand\u001b[39;00m subsublist \u001b[38;5;241m<\u001b[39m d_mean:\n\u001b[1;32m      8\u001b[0m             f[i][j][k] \u001b[38;5;241m=\u001b[39m \u001b[38;5;124m\"\u001b[39m\u001b[38;5;124mB\u001b[39m\u001b[38;5;124m\"\u001b[39m\n\u001b[1;32m      9\u001b[0m         \u001b[38;5;28;01melif\u001b[39;00m subsublist \u001b[38;5;241m>\u001b[39m d_mean \u001b[38;5;129;01mand\u001b[39;00m subsublist \u001b[38;5;241m<\u001b[39m d_max:\n",
      "\u001b[0;31mTypeError\u001b[0m: '<' not supported between instances of 'numpy.ndarray' and 'numpy.str_'"
     ]
    }
   ],
   "source": [
    "\"\"\"\n",
    "\n",
    "f=np.empty(d.shape,dtype=str)\n",
    "print(f)\n",
    "\n",
    "for i, e in enumerate(f):\n",
    "    for j, sublist in enumerate(e):\n",
    "        for k, subsublist in enumerate(sublist):\n",
    "            if subsublist > d_min and subsublist < d_mean:\n",
    "                f[i][j][k] = \"B\"\n",
    "            elif subsublist > d_mean and subsublist < d_max:\n",
    "                f[i][j][k] = \"D\"\n",
    "            elif subsublist == d_mean:\n",
    "                f[i][j][k] = \"C\"\n",
    "            elif subsublist == d_min:\n",
    "                f[i][j][k] = \"A\"\n",
    "            elif subsublist == d_max:\n",
    "                f[i][j][k] = \"E\"\"\"\""
   ]
  },
  {
   "cell_type": "code",
   "execution_count": null,
   "id": "19ac5f1c",
   "metadata": {},
   "outputs": [],
   "source": []
  }
 ],
 "metadata": {
  "kernelspec": {
   "display_name": "Python 3 (ipykernel)",
   "language": "python",
   "name": "python3"
  },
  "language_info": {
   "codemirror_mode": {
    "name": "ipython",
    "version": 3
   },
   "file_extension": ".py",
   "mimetype": "text/x-python",
   "name": "python",
   "nbconvert_exporter": "python",
   "pygments_lexer": "ipython3",
   "version": "3.10.9"
  }
 },
 "nbformat": 4,
 "nbformat_minor": 5
}
