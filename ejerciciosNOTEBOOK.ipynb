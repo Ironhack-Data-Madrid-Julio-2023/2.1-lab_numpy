{
 "cells": [
  {
   "cell_type": "code",
   "execution_count": 1,
   "id": "192a16e8",
   "metadata": {},
   "outputs": [],
   "source": [
    "import numpy as np"
   ]
  },
  {
   "cell_type": "code",
   "execution_count": 2,
   "id": "e0a51e36",
   "metadata": {},
   "outputs": [
    {
     "name": "stdout",
     "output_type": "stream",
     "text": [
      "Numpy Version: 1.23.5\n"
     ]
    }
   ],
   "source": [
    "print(\"Numpy Version:\", np.__version__)"
   ]
  },
  {
   "cell_type": "code",
   "execution_count": 3,
   "id": "b19b98d3",
   "metadata": {},
   "outputs": [
    {
     "name": "stdout",
     "output_type": "stream",
     "text": [
      "Numpy Configuration:\n",
      "blas_armpl_info:\n",
      "  NOT AVAILABLE\n",
      "blas_mkl_info:\n",
      "  NOT AVAILABLE\n",
      "blis_info:\n",
      "  NOT AVAILABLE\n",
      "openblas_info:\n",
      "    libraries = ['openblas', 'openblas']\n",
      "    library_dirs = ['/Users/ibaigallego/anaconda3/lib']\n",
      "    language = c\n",
      "    define_macros = [('HAVE_CBLAS', None)]\n",
      "blas_opt_info:\n",
      "    libraries = ['openblas', 'openblas']\n",
      "    library_dirs = ['/Users/ibaigallego/anaconda3/lib']\n",
      "    language = c\n",
      "    define_macros = [('HAVE_CBLAS', None)]\n",
      "lapack_armpl_info:\n",
      "  NOT AVAILABLE\n",
      "lapack_mkl_info:\n",
      "  NOT AVAILABLE\n",
      "openblas_lapack_info:\n",
      "    libraries = ['openblas', 'openblas']\n",
      "    library_dirs = ['/Users/ibaigallego/anaconda3/lib']\n",
      "    language = c\n",
      "    define_macros = [('HAVE_CBLAS', None)]\n",
      "lapack_opt_info:\n",
      "    libraries = ['openblas', 'openblas']\n",
      "    library_dirs = ['/Users/ibaigallego/anaconda3/lib']\n",
      "    language = c\n",
      "    define_macros = [('HAVE_CBLAS', None)]\n",
      "Supported SIMD extensions in this NumPy install:\n",
      "    baseline = SSE,SSE2,SSE3\n",
      "    found = SSSE3,SSE41,POPCNT,SSE42,AVX,F16C,FMA3,AVX2\n",
      "    not found = AVX512F,AVX512CD,AVX512_KNL,AVX512_SKX,AVX512_CLX,AVX512_CNL,AVX512_ICL\n"
     ]
    }
   ],
   "source": [
    "print(\"Numpy Configuration:\")\n",
    "np.show_config()"
   ]
  },
  {
   "cell_type": "code",
   "execution_count": 4,
   "id": "8be9b83b",
   "metadata": {},
   "outputs": [],
   "source": [
    "a = np.random.random((2, 3, 5))"
   ]
  },
  {
   "cell_type": "code",
   "execution_count": 5,
   "id": "62661761",
   "metadata": {},
   "outputs": [
    {
     "name": "stdout",
     "output_type": "stream",
     "text": [
      "[[[0.69144071 0.18365571 0.42271259 0.5956212  0.68147311]\n",
      "  [0.73209329 0.28846806 0.58161625 0.94881206 0.27580239]\n",
      "  [0.09184912 0.37227526 0.62828753 0.38281673 0.94362037]]\n",
      "\n",
      " [[0.45912983 0.68271645 0.65236414 0.83997645 0.97086841]\n",
      "  [0.79058452 0.70229927 0.24127984 0.55047203 0.00139229]\n",
      "  [0.94950671 0.10699053 0.74128193 0.44677623 0.00833595]]]\n"
     ]
    }
   ],
   "source": [
    "print(a)"
   ]
  },
  {
   "cell_type": "code",
   "execution_count": 6,
   "id": "689c79a1",
   "metadata": {},
   "outputs": [],
   "source": [
    "b = np.ones((5,2,3))"
   ]
  },
  {
   "cell_type": "code",
   "execution_count": 7,
   "id": "8bdf2544",
   "metadata": {},
   "outputs": [
    {
     "name": "stdout",
     "output_type": "stream",
     "text": [
      "[[[1. 1. 1.]\n",
      "  [1. 1. 1.]]\n",
      "\n",
      " [[1. 1. 1.]\n",
      "  [1. 1. 1.]]\n",
      "\n",
      " [[1. 1. 1.]\n",
      "  [1. 1. 1.]]\n",
      "\n",
      " [[1. 1. 1.]\n",
      "  [1. 1. 1.]]\n",
      "\n",
      " [[1. 1. 1.]\n",
      "  [1. 1. 1.]]]\n"
     ]
    }
   ],
   "source": [
    "print(b)"
   ]
  },
  {
   "cell_type": "code",
   "execution_count": 8,
   "id": "79cfdf3c",
   "metadata": {
    "scrolled": true
   },
   "outputs": [],
   "source": [
    "#c=a+b\n",
    "#c"
   ]
  },
  {
   "cell_type": "markdown",
   "id": "ce3d9804",
   "metadata": {},
   "source": [
    "They have the same dimensions but in different order, we have to transpose one of the matrix to be able to operate."
   ]
  },
  {
   "cell_type": "code",
   "execution_count": 9,
   "id": "864d1a63",
   "metadata": {},
   "outputs": [
    {
     "data": {
      "text/plain": [
       "(2, 3, 5)"
      ]
     },
     "execution_count": 9,
     "metadata": {},
     "output_type": "execute_result"
    }
   ],
   "source": [
    "c = np.transpose(b, axes=(1,2,0))\n",
    "c.shape"
   ]
  },
  {
   "cell_type": "code",
   "execution_count": 10,
   "id": "c4dfc6e8",
   "metadata": {},
   "outputs": [],
   "source": [
    "d = c+a"
   ]
  },
  {
   "cell_type": "code",
   "execution_count": 11,
   "id": "00246d47",
   "metadata": {},
   "outputs": [
    {
     "data": {
      "text/plain": [
       "array([[[1.69144071, 1.18365571, 1.42271259, 1.5956212 , 1.68147311],\n",
       "        [1.73209329, 1.28846806, 1.58161625, 1.94881206, 1.27580239],\n",
       "        [1.09184912, 1.37227526, 1.62828753, 1.38281673, 1.94362037]],\n",
       "\n",
       "       [[1.45912983, 1.68271645, 1.65236414, 1.83997645, 1.97086841],\n",
       "        [1.79058452, 1.70229927, 1.24127984, 1.55047203, 1.00139229],\n",
       "        [1.94950671, 1.10699053, 1.74128193, 1.44677623, 1.00833595]]])"
      ]
     },
     "execution_count": 11,
     "metadata": {},
     "output_type": "execute_result"
    }
   ],
   "source": [
    "d"
   ]
  },
  {
   "cell_type": "code",
   "execution_count": 12,
   "id": "67e861e3",
   "metadata": {},
   "outputs": [
    {
     "data": {
      "text/plain": [
       "array([[[0.69144071, 0.18365571, 0.42271259, 0.5956212 , 0.68147311],\n",
       "        [0.73209329, 0.28846806, 0.58161625, 0.94881206, 0.27580239],\n",
       "        [0.09184912, 0.37227526, 0.62828753, 0.38281673, 0.94362037]],\n",
       "\n",
       "       [[0.45912983, 0.68271645, 0.65236414, 0.83997645, 0.97086841],\n",
       "        [0.79058452, 0.70229927, 0.24127984, 0.55047203, 0.00139229],\n",
       "        [0.94950671, 0.10699053, 0.74128193, 0.44677623, 0.00833595]]])"
      ]
     },
     "execution_count": 12,
     "metadata": {},
     "output_type": "execute_result"
    }
   ],
   "source": [
    "a"
   ]
  },
  {
   "cell_type": "markdown",
   "id": "e80a0c0c",
   "metadata": {},
   "source": [
    "it has added each value with the same \"coordinates\" toguether"
   ]
  },
  {
   "cell_type": "code",
   "execution_count": 13,
   "id": "3aef6bb8",
   "metadata": {},
   "outputs": [],
   "source": [
    "e=a*c"
   ]
  },
  {
   "cell_type": "code",
   "execution_count": 14,
   "id": "ee050f02",
   "metadata": {},
   "outputs": [
    {
     "data": {
      "text/plain": [
       "array([[[0.69144071, 0.18365571, 0.42271259, 0.5956212 , 0.68147311],\n",
       "        [0.73209329, 0.28846806, 0.58161625, 0.94881206, 0.27580239],\n",
       "        [0.09184912, 0.37227526, 0.62828753, 0.38281673, 0.94362037]],\n",
       "\n",
       "       [[0.45912983, 0.68271645, 0.65236414, 0.83997645, 0.97086841],\n",
       "        [0.79058452, 0.70229927, 0.24127984, 0.55047203, 0.00139229],\n",
       "        [0.94950671, 0.10699053, 0.74128193, 0.44677623, 0.00833595]]])"
      ]
     },
     "execution_count": 14,
     "metadata": {},
     "output_type": "execute_result"
    }
   ],
   "source": [
    "e"
   ]
  },
  {
   "cell_type": "code",
   "execution_count": 15,
   "id": "078f3cb0",
   "metadata": {},
   "outputs": [
    {
     "data": {
      "text/plain": [
       "array([[[ True,  True,  True,  True,  True],\n",
       "        [ True,  True,  True,  True,  True],\n",
       "        [ True,  True,  True,  True,  True]],\n",
       "\n",
       "       [[ True,  True,  True,  True,  True],\n",
       "        [ True,  True,  True,  True,  True],\n",
       "        [ True,  True,  True,  True,  True]]])"
      ]
     },
     "execution_count": 15,
     "metadata": {},
     "output_type": "execute_result"
    }
   ],
   "source": [
    "a == e  #Yes, because c is the neutral of a matrix multiplication"
   ]
  },
  {
   "cell_type": "code",
   "execution_count": 16,
   "id": "84e3b1e1",
   "metadata": {},
   "outputs": [
    {
     "name": "stdout",
     "output_type": "stream",
     "text": [
      "the max is 1.9708684055295889, the min is 1.0013922859638078 and the mean is 1.5321506310821336\n"
     ]
    }
   ],
   "source": [
    "d_max = d.max()\n",
    "d_min = d.min()\n",
    "d_mean = d.mean()\n",
    "\n",
    "\n",
    "print(f'the max is {d_max}, the min is {d_min} and the mean is {d_mean}')"
   ]
  },
  {
   "cell_type": "code",
   "execution_count": 19,
   "id": "e32f0877",
   "metadata": {},
   "outputs": [
    {
     "data": {
      "text/plain": [
       "array([[[0.69144071, 0.18365571, 0.42271259, 0.5956212 , 0.68147311],\n",
       "        [0.73209329, 0.28846806, 0.58161625, 0.94881206, 0.27580239],\n",
       "        [0.09184912, 0.37227526, 0.62828753, 0.38281673, 0.94362037]],\n",
       "\n",
       "       [[0.45912983, 0.68271645, 0.65236414, 0.83997645, 0.97086841],\n",
       "        [0.79058452, 0.70229927, 0.24127984, 0.55047203, 0.00139229],\n",
       "        [0.94950671, 0.10699053, 0.74128193, 0.44677623, 0.00833595]]])"
      ]
     },
     "execution_count": 19,
     "metadata": {},
     "output_type": "execute_result"
    }
   ],
   "source": [
    "f = np.empty((2,3,5))\n",
    "f"
   ]
  },
  {
   "cell_type": "code",
   "execution_count": null,
   "id": "02a60888",
   "metadata": {
    "scrolled": true
   },
   "outputs": [],
   "source": []
  },
  {
   "cell_type": "markdown",
   "id": "7784bc74",
   "metadata": {},
   "source": [
    "for i in f:\n",
    "    for j in i:\n",
    "        for k in j:\n",
    "            if k < d_mean and k > d_min:\n",
    "                f[i,j,k]=25\n",
    "            elif k  > d and k < d_max:\n",
    "                f[i,j,k]=75\n",
    "            elif k == d_mean:\n",
    "                f[i,j,k]=50\n",
    "            elif k == d_max:\n",
    "                f[i,j,k]=100\n",
    "            elif k == d_min:\n",
    "                f[i,j,k]=0\n",
    "\n",
    "print(f)\n",
    "    \n",
    "    "
   ]
  },
  {
   "cell_type": "code",
   "execution_count": null,
   "id": "79c33468",
   "metadata": {},
   "outputs": [],
   "source": []
  },
  {
   "cell_type": "markdown",
   "id": "8e94e9bd",
   "metadata": {},
   "source": [
    "f = np.where((f < d_mean, f > d_min, 25),\n",
    "        np.where(np.logical_and(f > d, f < d_max), 75,\n",
    "        np.where(f == d_mean, 50,\n",
    "        np.where(f == d_max, 100,\n",
    "        np.where(f == d_min, 0, f)))))\n",
    "\n",
    "print(f)"
   ]
  },
  {
   "cell_type": "code",
   "execution_count": 26,
   "id": "82290af5",
   "metadata": {},
   "outputs": [
    {
     "name": "stdout",
     "output_type": "stream",
     "text": [
      "5\n"
     ]
    },
    {
     "data": {
      "text/plain": [
       "array([[[ 75.,  25.,  25.,  75.,  75.],\n",
       "        [ 75.,  25.,  75.,  75.,  25.],\n",
       "        [ 25.,  25.,  75.,  25.,  75.]],\n",
       "\n",
       "       [[ 25.,  75.,  75.,  75., 100.],\n",
       "        [ 75.,  75.,  25.,  75.,   0.],\n",
       "        [ 75.,  25.,  75.,  25.,  25.]]])"
      ]
     },
     "execution_count": 26,
     "metadata": {},
     "output_type": "execute_result"
    }
   ],
   "source": [
    "print(d.shape[0])\n",
    "\n",
    "f\n"
   ]
  },
  {
   "cell_type": "code",
   "execution_count": 27,
   "id": "663399c8",
   "metadata": {},
   "outputs": [
    {
     "data": {
      "text/plain": [
       "array([[[ 75.,  25.,  25.,  75.,  75.],\n",
       "        [ 75.,  25.,  75.,  75.,  25.],\n",
       "        [ 25.,  25.,  75.,  25.,  75.]],\n",
       "\n",
       "       [[ 25.,  75.,  75.,  75., 100.],\n",
       "        [ 75.,  75.,  25.,  75.,   0.],\n",
       "        [ 75.,  25.,  75.,  25.,  25.]]])"
      ]
     },
     "execution_count": 27,
     "metadata": {},
     "output_type": "execute_result"
    }
   ],
   "source": [
    "for i in range(d.shape[0]):\n",
    "    for j in range(d.shape[1]):\n",
    "        for k in range(d.shape[2]):\n",
    "            if d[i][j][k] < d_mean and d[i][j][k] > d_min:\n",
    "                f[i][j][k]=25\n",
    "            elif d[i][j][k]  > d_mean and d[i][j][k] < d_max:\n",
    "                f[i][j][k]=75\n",
    "            elif d[i][j][k] == d_mean:\n",
    "                f[i][j][k]=50\n",
    "            elif d[i][j][k] == d_max:\n",
    "                f[i][j][k]=100\n",
    "            elif d[i][j][k] == d_min:\n",
    "                f[i][j][k]=0\n",
    "                \n",
    "f\n",
    "    \n",
    "    \n",
    "#f[i][j][k]"
   ]
  },
  {
   "cell_type": "code",
   "execution_count": null,
   "id": "7a291e00",
   "metadata": {},
   "outputs": [],
   "source": [
    "for i in "
   ]
  },
  {
   "cell_type": "code",
   "execution_count": null,
   "id": "523b0663",
   "metadata": {},
   "outputs": [],
   "source": []
  },
  {
   "cell_type": "code",
   "execution_count": null,
   "id": "8468260b",
   "metadata": {},
   "outputs": [],
   "source": []
  },
  {
   "cell_type": "code",
   "execution_count": null,
   "id": "bf5b0a3a",
   "metadata": {},
   "outputs": [],
   "source": []
  },
  {
   "cell_type": "code",
   "execution_count": null,
   "id": "a07a93f7",
   "metadata": {},
   "outputs": [],
   "source": []
  },
  {
   "cell_type": "code",
   "execution_count": null,
   "id": "479e2908",
   "metadata": {},
   "outputs": [],
   "source": []
  },
  {
   "cell_type": "code",
   "execution_count": null,
   "id": "37e30da5",
   "metadata": {},
   "outputs": [],
   "source": []
  },
  {
   "cell_type": "code",
   "execution_count": null,
   "id": "56865081",
   "metadata": {},
   "outputs": [],
   "source": []
  }
 ],
 "metadata": {
  "kernelspec": {
   "display_name": "Python 3 (ipykernel)",
   "language": "python",
   "name": "python3"
  },
  "language_info": {
   "codemirror_mode": {
    "name": "ipython",
    "version": 3
   },
   "file_extension": ".py",
   "mimetype": "text/x-python",
   "name": "python",
   "nbconvert_exporter": "python",
   "pygments_lexer": "ipython3",
   "version": "3.10.9"
  }
 },
 "nbformat": 4,
 "nbformat_minor": 5
}
