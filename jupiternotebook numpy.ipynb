{
 "cells": [
  {
   "cell_type": "code",
   "execution_count": 1,
   "id": "b2fcf193",
   "metadata": {},
   "outputs": [],
   "source": [
    "import numpy as np\n"
   ]
  },
  {
   "cell_type": "code",
   "execution_count": 2,
   "id": "e4375421",
   "metadata": {},
   "outputs": [
    {
     "name": "stdout",
     "output_type": "stream",
     "text": [
      "NumPy version: 1.23.5\n",
      "blas_armpl_info:\n",
      "  NOT AVAILABLE\n",
      "blas_mkl_info:\n",
      "    libraries = ['mkl_rt']\n",
      "    library_dirs = ['C:/Users/jaime/anaconda3\\\\Library\\\\lib']\n",
      "    define_macros = [('SCIPY_MKL_H', None), ('HAVE_CBLAS', None)]\n",
      "    include_dirs = ['C:/Users/jaime/anaconda3\\\\Library\\\\include']\n",
      "blas_opt_info:\n",
      "    libraries = ['mkl_rt']\n",
      "    library_dirs = ['C:/Users/jaime/anaconda3\\\\Library\\\\lib']\n",
      "    define_macros = [('SCIPY_MKL_H', None), ('HAVE_CBLAS', None)]\n",
      "    include_dirs = ['C:/Users/jaime/anaconda3\\\\Library\\\\include']\n",
      "lapack_armpl_info:\n",
      "  NOT AVAILABLE\n",
      "lapack_mkl_info:\n",
      "    libraries = ['mkl_rt']\n",
      "    library_dirs = ['C:/Users/jaime/anaconda3\\\\Library\\\\lib']\n",
      "    define_macros = [('SCIPY_MKL_H', None), ('HAVE_CBLAS', None)]\n",
      "    include_dirs = ['C:/Users/jaime/anaconda3\\\\Library\\\\include']\n",
      "lapack_opt_info:\n",
      "    libraries = ['mkl_rt']\n",
      "    library_dirs = ['C:/Users/jaime/anaconda3\\\\Library\\\\lib']\n",
      "    define_macros = [('SCIPY_MKL_H', None), ('HAVE_CBLAS', None)]\n",
      "    include_dirs = ['C:/Users/jaime/anaconda3\\\\Library\\\\include']\n",
      "Supported SIMD extensions in this NumPy install:\n",
      "    baseline = SSE,SSE2,SSE3\n",
      "    found = SSSE3,SSE41,POPCNT,SSE42,AVX,F16C,FMA3,AVX2\n",
      "    not found = AVX512F,AVX512CD,AVX512_SKX,AVX512_CLX,AVX512_CNL\n"
     ]
    }
   ],
   "source": [
    "print(\"NumPy version:\", np.__version__) #version\n",
    "np.show_config() #configuración"
   ]
  },
  {
   "cell_type": "code",
   "execution_count": 3,
   "id": "1718a8a8",
   "metadata": {},
   "outputs": [],
   "source": [
    "a = np.random.random ((2, 3, 5))"
   ]
  },
  {
   "cell_type": "code",
   "execution_count": 4,
   "id": "71a400f1",
   "metadata": {},
   "outputs": [],
   "source": [
    "b = np.ones((5, 2 ,3))"
   ]
  },
  {
   "cell_type": "code",
   "execution_count": 5,
   "id": "8dbf8b65",
   "metadata": {},
   "outputs": [
    {
     "name": "stdout",
     "output_type": "stream",
     "text": [
      "30\n",
      "30\n",
      "True\n"
     ]
    }
   ],
   "source": [
    "print(a.size)\n",
    "print(b.size)\n",
    "print((True if a.size == b.size else False ))"
   ]
  },
  {
   "cell_type": "code",
   "execution_count": 9,
   "id": "56206ad6",
   "metadata": {},
   "outputs": [
    {
     "name": "stdout",
     "output_type": "stream",
     "text": [
      "(2, 3, 5)\n",
      "(5, 2, 3)\n",
      "a and b have not the same shape\n"
     ]
    }
   ],
   "source": [
    "try:\n",
    "    print(a + b)\n",
    "except ValueError:\n",
    "    print(a.shape)\n",
    "    print(b.shape)\n",
    "    print(f'a and b have not the same shape')"
   ]
  },
  {
   "cell_type": "code",
   "execution_count": 16,
   "id": "dae0ce5f",
   "metadata": {},
   "outputs": [
    {
     "name": "stdout",
     "output_type": "stream",
     "text": [
      "[[[1. 1. 1. 1. 1.]\n",
      "  [1. 1. 1. 1. 1.]\n",
      "  [1. 1. 1. 1. 1.]]\n",
      "\n",
      " [[1. 1. 1. 1. 1.]\n",
      "  [1. 1. 1. 1. 1.]\n",
      "  [1. 1. 1. 1. 1.]]]\n"
     ]
    }
   ],
   "source": [
    "c = np.transpose(b, (1, 2, 0))\n",
    "print(c)"
   ]
  },
  {
   "cell_type": "code",
   "execution_count": 14,
   "id": "8dcb1819",
   "metadata": {},
   "outputs": [],
   "source": [
    "d = a + c"
   ]
  },
  {
   "cell_type": "code",
   "execution_count": 20,
   "id": "4eb0d081",
   "metadata": {},
   "outputs": [
    {
     "name": "stdout",
     "output_type": "stream",
     "text": [
      "esto es a:  \n",
      " [[[0.4076668  0.37009672 0.03855466 0.35632575 0.8099741 ]\n",
      "  [0.22610928 0.49032765 0.79089587 0.82088758 0.85387235]\n",
      "  [0.18899155 0.20514873 0.83263063 0.43839627 0.88364601]]\n",
      "\n",
      " [[0.84305738 0.64888127 0.96172118 0.48373832 0.57282201]\n",
      "  [0.29929253 0.67679003 0.97750864 0.25373678 0.38605109]\n",
      "  [0.62258662 0.2017159  0.90898593 0.82192755 0.32751557]]]\n",
      "esto es d:  \n",
      " [[[1.4076668  1.37009672 1.03855466 1.35632575 1.8099741 ]\n",
      "  [1.22610928 1.49032765 1.79089587 1.82088758 1.85387235]\n",
      "  [1.18899155 1.20514873 1.83263063 1.43839627 1.88364601]]\n",
      "\n",
      " [[1.84305738 1.64888127 1.96172118 1.48373832 1.57282201]\n",
      "  [1.29929253 1.67679003 1.97750864 1.25373678 1.38605109]\n",
      "  [1.62258662 1.2017159  1.90898593 1.82192755 1.32751557]]]\n"
     ]
    }
   ],
   "source": [
    "print(f'esto es a: ', '\\n', a)\n",
    "print(f'esto es d: ', '\\n', d)"
   ]
  },
  {
   "cell_type": "code",
   "execution_count": 28,
   "id": "cdbe0871",
   "metadata": {},
   "outputs": [
    {
     "name": "stdout",
     "output_type": "stream",
     "text": [
      "[[[1. 1. 1. 1. 1.]\n",
      "  [1. 1. 1. 1. 1.]\n",
      "  [1. 1. 1. 1. 1.]]\n",
      "\n",
      " [[1. 1. 1. 1. 1.]\n",
      "  [1. 1. 1. 1. 1.]\n",
      "  [1. 1. 1. 1. 1.]]]\n"
     ]
    }
   ],
   "source": [
    "e = a * c\n",
    "print(c)"
   ]
  },
  {
   "cell_type": "code",
   "execution_count": 27,
   "id": "03f1d578",
   "metadata": {},
   "outputs": [
    {
     "name": "stdout",
     "output_type": "stream",
     "text": [
      "True\n"
     ]
    }
   ],
   "source": [
    "print(True if np.array_equal(a, e) else False)"
   ]
  },
  {
   "cell_type": "code",
   "execution_count": 29,
   "id": "e46f7c14",
   "metadata": {},
   "outputs": [],
   "source": [
    "d_max = np.max(d)\n",
    "d_min = np.min(d)\n",
    "d_mean = np.mean(d)"
   ]
  },
  {
   "cell_type": "code",
   "execution_count": 30,
   "id": "b47beff9",
   "metadata": {},
   "outputs": [
    {
     "name": "stdout",
     "output_type": "stream",
     "text": [
      "This is f:  \n",
      " [[[1. 1. 1. 1. 1.]\n",
      "  [1. 1. 1. 1. 1.]\n",
      "  [1. 1. 1. 1. 1.]]\n",
      "\n",
      " [[1. 1. 1. 1. 1.]\n",
      "  [1. 1. 1. 1. 1.]\n",
      "  [1. 1. 1. 1. 1.]]]\n"
     ]
    }
   ],
   "source": [
    "f = np.empty((2, 3, 5))\n",
    "print(f'This is f: ', '\\n', f)"
   ]
  },
  {
   "cell_type": "code",
   "execution_count": 32,
   "id": "62c80ce0",
   "metadata": {},
   "outputs": [
    {
     "data": {
      "text/plain": [
       "\"\\n#16. Populate the values in f. For each value in d, if it's larger than d_min but smaller than d_mean, assign 25 to the corresponding value in f.\\nIf a value in d is larger than d_mean but smaller than d_max, assign 75 to the corresponding value in f.\\nIf a value equals to d_mean, assign 50 to the corresponding value in f.\\nAssign 0 to the corresponding value(s) in f for d_min in d.\\nAssign 100 to the corresponding value(s) in f for d_max in d.\\nIn the end, f should have only the following values: 0, 25, 50, 75, and 100.\\nNote: you don't have to use Numpy in this question.\\n\""
      ]
     },
     "execution_count": 32,
     "metadata": {},
     "output_type": "execute_result"
    }
   ],
   "source": [
    "\"\"\"\n",
    "#16. Populate the values in f. For each value in d, if it's larger than d_min but smaller than d_mean, assign 25 to the corresponding value in f.\n",
    "If a value in d is larger than d_mean but smaller than d_max, assign 75 to the corresponding value in f.\n",
    "If a value equals to d_mean, assign 50 to the corresponding value in f.\n",
    "Assign 0 to the corresponding value(s) in f for d_min in d.\n",
    "Assign 100 to the corresponding value(s) in f for d_max in d.\n",
    "In the end, f should have only the following values: 0, 25, 50, 75, and 100.\n",
    "Note: you don't have to use Numpy in this question.\n",
    "\"\"\""
   ]
  },
  {
   "cell_type": "code",
   "execution_count": 49,
   "id": "306186e2",
   "metadata": {},
   "outputs": [],
   "source": [
    "f = np.where((d > d_min) & (d < d_mean), 25, f)\n",
    "f = np.where((d > d_mean) & (d < d_max), 75, f)\n",
    "f = np.where(d == d_mean, 50, f)\n",
    "f = np.where(d == d_min, 0, f)\n",
    "f = np.where(d == d_max, 100, f)\n",
    "\n",
    "  #numpy.where(condición, x, y)          "
   ]
  },
  {
   "cell_type": "code",
   "execution_count": 50,
   "id": "dfadb5db",
   "metadata": {},
   "outputs": [
    {
     "name": "stdout",
     "output_type": "stream",
     "text": [
      "[[[ 25.  25.   0.  25.  75.]\n",
      "  [ 25.  25.  75.  75.  75.]\n",
      "  [ 25.  25.  75.  25.  75.]]\n",
      "\n",
      " [[ 75.  75.  75.  25.  75.]\n",
      "  [ 25.  75. 100.  25.  25.]\n",
      "  [ 75.  25.  75.  75.  25.]]]\n"
     ]
    }
   ],
   "source": [
    "print(f)"
   ]
  },
  {
   "cell_type": "code",
   "execution_count": null,
   "id": "2a59e3f3",
   "metadata": {},
   "outputs": [],
   "source": []
  }
 ],
 "metadata": {
  "kernelspec": {
   "display_name": "base",
   "language": "python",
   "name": "base"
  },
  "language_info": {
   "codemirror_mode": {
    "name": "ipython",
    "version": 3
   },
   "file_extension": ".py",
   "mimetype": "text/x-python",
   "name": "python",
   "nbconvert_exporter": "python",
   "pygments_lexer": "ipython3",
   "version": "3.10.9"
  }
 },
 "nbformat": 4,
 "nbformat_minor": 5
}
